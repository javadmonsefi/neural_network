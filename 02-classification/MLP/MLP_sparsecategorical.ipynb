{
 "cells": [
  {
   "cell_type": "code",
   "execution_count": null,
   "id": "992e9ddb-7e31-4a6b-8ff4-88a5d7429482",
   "metadata": {},
   "outputs": [],
   "source": [
    "# from google.colab import drive\n",
    "# drive.mount('/content/drive')"
   ]
  },
  {
   "cell_type": "markdown",
   "id": "5eb2d4b1-8697-4d51-a9f8-b3c7fe72099e",
   "metadata": {},
   "source": [
    "## import dataset"
   ]
  },
  {
   "cell_type": "code",
   "execution_count": null,
   "id": "d03fbf7a-e859-4530-acd6-8b1370d9ad9d",
   "metadata": {},
   "outputs": [],
   "source": [
    "import pandas as pd\n",
    "data = pd.read_csv('data.csv')\n",
    "data.head(3)"
   ]
  },
  {
   "cell_type": "markdown",
   "id": "f7989088-b2e2-429f-9931-1438d90a9509",
   "metadata": {},
   "source": [
    "## cleaning"
   ]
  },
  {
   "cell_type": "code",
   "execution_count": null,
   "id": "1c0d5339-2b83-4508-80ba-d6c0b6e346eb",
   "metadata": {},
   "outputs": [],
   "source": [
    "# clean the data"
   ]
  },
  {
   "cell_type": "markdown",
   "id": "2838a9bf-9947-469b-8d0b-7cba1efbcf50",
   "metadata": {},
   "source": [
    "## encoding"
   ]
  },
  {
   "cell_type": "code",
   "execution_count": null,
   "id": "5410cb7b-d1a3-4b92-9799-004d38804d23",
   "metadata": {},
   "outputs": [],
   "source": [
    "# encode the data"
   ]
  },
  {
   "cell_type": "markdown",
   "id": "f00440e9-de4d-4be5-8d43-2e93656d58fc",
   "metadata": {},
   "source": [
    "## define x, y"
   ]
  },
  {
   "cell_type": "code",
   "execution_count": null,
   "id": "70c2cef2-68d0-4507-b1be-9c128b2788ef",
   "metadata": {},
   "outputs": [],
   "source": [
    "import numpy as np\n",
    "x = data.iloc[:, 1:-1].values\n",
    "y = data.iloc[:, -1].values  # Keep as integer labels without one-hot encoding"
   ]
  },
  {
   "cell_type": "markdown",
   "id": "5d588e1c-b8e7-497e-88e4-de557d4c4ed4",
   "metadata": {},
   "source": [
    "##  spliting"
   ]
  },
  {
   "cell_type": "code",
   "execution_count": null,
   "id": "17b80543-78fe-47af-a170-0c357857800a",
   "metadata": {},
   "outputs": [],
   "source": [
    "from sklearn.model_selection import train_test_split\n",
    "x_train, x_test, y_train, y_test = train_test_split(x, y, test_size=0.25, random_state=42)"
   ]
  },
  {
   "cell_type": "markdown",
   "id": "8856e2eb-b2a4-4cf4-8062-1715598126e9",
   "metadata": {},
   "source": [
    "## scaling"
   ]
  },
  {
   "cell_type": "code",
   "execution_count": null,
   "id": "9b8cf229-6b7c-47f6-8de5-4c6892c4bbec",
   "metadata": {},
   "outputs": [],
   "source": [
    "from sklearn.preprocessing import MinMaxScaler\n",
    "mms = MinMaxScaler().fit(x_train)\n",
    "x_train = mms.transform(x_train)\n",
    "x_test = mms.transform(x_test)"
   ]
  },
  {
   "cell_type": "markdown",
   "id": "8de5461c-c86e-48a5-8ea8-ba4fe77053b8",
   "metadata": {},
   "source": [
    "## fit and evaluate the model"
   ]
  },
  {
   "cell_type": "code",
   "execution_count": null,
   "id": "ab0b37b9-19e3-418f-938b-9c8bb2defb64",
   "metadata": {},
   "outputs": [],
   "source": [
    "import tensorflow as tf\n",
    "\n",
    "model_1 = tf.keras.models.Sequential([\n",
    "    tf.keras.layers.Input(shape=(11,)),  \n",
    "    tf.keras.layers.Dense(11, activation='relu'),\n",
    "    tf.keras.layers.Dense(30, activation='relu'),\n",
    "    tf.keras.layers.Dense(2, activation='softmax')  \n",
    "])"
   ]
  },
  {
   "cell_type": "code",
   "execution_count": null,
   "id": "db4686ae-37b1-4aa2-b9b8-d7f706281899",
   "metadata": {},
   "outputs": [],
   "source": [
    "model_1.compile(\n",
    "    optimizer=tf.keras.optimizers.Adam(),             \n",
    "    loss=tf.keras.losses.SparseCategoricalCrossentropy(),  \n",
    "    metrics=[tf.keras.metrics.SparseCategoricalAccuracy()]  \n",
    ")"
   ]
  },
  {
   "cell_type": "code",
   "execution_count": null,
   "id": "e80ee64d-9278-4066-b003-8561cb13765a",
   "metadata": {},
   "outputs": [],
   "source": [
    "model_1.fit(x_train, y_train, epochs=10, validation_data=(x_test, y_test), batch_size=500)"
   ]
  },
  {
   "cell_type": "code",
   "execution_count": null,
   "id": "6d0a79d5-8737-426c-aa4f-9ffc4fbb9e33",
   "metadata": {},
   "outputs": [],
   "source": [
    "model.summary()"
   ]
  },
  {
   "cell_type": "markdown",
   "id": "2214f981-905f-4dbc-bc88-9dc95b674392",
   "metadata": {},
   "source": [
    "## visualizing"
   ]
  },
  {
   "cell_type": "code",
   "execution_count": null,
   "id": "2beadca7-6e05-4bea-a443-3f06dace06ab",
   "metadata": {},
   "outputs": [],
   "source": []
  },
  {
   "cell_type": "markdown",
   "id": "c404cc12-cecf-4580-9e28-3d838bcbe667",
   "metadata": {},
   "source": [
    "## predict new data"
   ]
  },
  {
   "cell_type": "code",
   "execution_count": null,
   "id": "f2fbb0ac-b70f-4295-9390-615c89996f78",
   "metadata": {},
   "outputs": [],
   "source": []
  },
  {
   "cell_type": "markdown",
   "id": "7d5a5538-fd43-430e-84ac-d3b8cddfa4c4",
   "metadata": {},
   "source": [
    "## save the model"
   ]
  },
  {
   "cell_type": "code",
   "execution_count": null,
   "id": "7ff384ba-7b32-47d8-9688-203eea58f276",
   "metadata": {},
   "outputs": [],
   "source": []
  },
  {
   "cell_type": "markdown",
   "id": "7c3b0e87-045d-4158-a6d6-857f0cc3923d",
   "metadata": {},
   "source": [
    "## load the model"
   ]
  },
  {
   "cell_type": "code",
   "execution_count": null,
   "id": "b432388f-2f12-4daa-9183-c0328ddcb941",
   "metadata": {},
   "outputs": [],
   "source": []
  }
 ],
 "metadata": {
  "kernelspec": {
   "display_name": "Python [conda env:base] *",
   "language": "python",
   "name": "conda-base-py"
  },
  "language_info": {
   "codemirror_mode": {
    "name": "ipython",
    "version": 3
   },
   "file_extension": ".py",
   "mimetype": "text/x-python",
   "name": "python",
   "nbconvert_exporter": "python",
   "pygments_lexer": "ipython3",
   "version": "3.12.7"
  }
 },
 "nbformat": 4,
 "nbformat_minor": 5
}
