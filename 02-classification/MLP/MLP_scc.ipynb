{
 "cells": [
  {
   "cell_type": "code",
   "execution_count": 1,
   "id": "992e9ddb-7e31-4a6b-8ff4-88a5d7429482",
   "metadata": {
    "executionInfo": {
     "elapsed": 4,
     "status": "ok",
     "timestamp": 1744032468490,
     "user": {
      "displayName": "Javad Monsefi",
      "userId": "11903795943444044796"
     },
     "user_tz": -210
    },
    "id": "992e9ddb-7e31-4a6b-8ff4-88a5d7429482"
   },
   "outputs": [],
   "source": [
    "# from google.colab import files, drive"
   ]
  },
  {
   "cell_type": "code",
   "execution_count": 2,
   "id": "9hellsPAPtb-",
   "metadata": {
    "executionInfo": {
     "elapsed": 2,
     "status": "ok",
     "timestamp": 1744032468844,
     "user": {
      "displayName": "Javad Monsefi",
      "userId": "11903795943444044796"
     },
     "user_tz": -210
    },
    "id": "9hellsPAPtb-"
   },
   "outputs": [],
   "source": [
    "# up = files.upload()"
   ]
  },
  {
   "cell_type": "code",
   "execution_count": 3,
   "id": "uowKBXH2Ptev",
   "metadata": {
    "executionInfo": {
     "elapsed": 6,
     "status": "ok",
     "timestamp": 1744032469421,
     "user": {
      "displayName": "Javad Monsefi",
      "userId": "11903795943444044796"
     },
     "user_tz": -210
    },
    "id": "uowKBXH2Ptev"
   },
   "outputs": [],
   "source": [
    "# drive.mount('/content/drive')"
   ]
  },
  {
   "cell_type": "markdown",
   "id": "5eb2d4b1-8697-4d51-a9f8-b3c7fe72099e",
   "metadata": {
    "id": "5eb2d4b1-8697-4d51-a9f8-b3c7fe72099e"
   },
   "source": [
    "## import dataset"
   ]
  },
  {
   "cell_type": "code",
   "execution_count": 78,
   "id": "d03fbf7a-e859-4530-acd6-8b1370d9ad9d",
   "metadata": {
    "colab": {
     "base_uri": "https://localhost:8080/",
     "height": 173
    },
    "executionInfo": {
     "elapsed": 1380,
     "status": "ok",
     "timestamp": 1744032473737,
     "user": {
      "displayName": "Javad Monsefi",
      "userId": "11903795943444044796"
     },
     "user_tz": -210
    },
    "id": "d03fbf7a-e859-4530-acd6-8b1370d9ad9d",
    "outputId": "f460730b-1a95-469e-8991-8ba67168db59"
   },
   "outputs": [
    {
     "data": {
      "text/html": [
       "<div>\n",
       "<style scoped>\n",
       "    .dataframe tbody tr th:only-of-type {\n",
       "        vertical-align: middle;\n",
       "    }\n",
       "\n",
       "    .dataframe tbody tr th {\n",
       "        vertical-align: top;\n",
       "    }\n",
       "\n",
       "    .dataframe thead th {\n",
       "        text-align: right;\n",
       "    }\n",
       "</style>\n",
       "<table border=\"1\" class=\"dataframe\">\n",
       "  <thead>\n",
       "    <tr style=\"text-align: right;\">\n",
       "      <th></th>\n",
       "      <th>0</th>\n",
       "      <th>1</th>\n",
       "      <th>2</th>\n",
       "      <th>3</th>\n",
       "      <th>4</th>\n",
       "      <th>5</th>\n",
       "      <th>6</th>\n",
       "      <th>7</th>\n",
       "      <th>8</th>\n",
       "      <th>9</th>\n",
       "      <th>...</th>\n",
       "      <th>775</th>\n",
       "      <th>776</th>\n",
       "      <th>777</th>\n",
       "      <th>778</th>\n",
       "      <th>779</th>\n",
       "      <th>780</th>\n",
       "      <th>781</th>\n",
       "      <th>782</th>\n",
       "      <th>783</th>\n",
       "      <th>784</th>\n",
       "    </tr>\n",
       "  </thead>\n",
       "  <tbody>\n",
       "    <tr>\n",
       "      <th>0</th>\n",
       "      <td>5</td>\n",
       "      <td>0</td>\n",
       "      <td>0</td>\n",
       "      <td>0</td>\n",
       "      <td>0</td>\n",
       "      <td>0</td>\n",
       "      <td>0</td>\n",
       "      <td>0</td>\n",
       "      <td>0</td>\n",
       "      <td>0</td>\n",
       "      <td>...</td>\n",
       "      <td>0</td>\n",
       "      <td>0</td>\n",
       "      <td>0</td>\n",
       "      <td>0</td>\n",
       "      <td>0</td>\n",
       "      <td>0</td>\n",
       "      <td>0</td>\n",
       "      <td>0</td>\n",
       "      <td>0</td>\n",
       "      <td>0</td>\n",
       "    </tr>\n",
       "    <tr>\n",
       "      <th>1</th>\n",
       "      <td>0</td>\n",
       "      <td>0</td>\n",
       "      <td>0</td>\n",
       "      <td>0</td>\n",
       "      <td>0</td>\n",
       "      <td>0</td>\n",
       "      <td>0</td>\n",
       "      <td>0</td>\n",
       "      <td>0</td>\n",
       "      <td>0</td>\n",
       "      <td>...</td>\n",
       "      <td>0</td>\n",
       "      <td>0</td>\n",
       "      <td>0</td>\n",
       "      <td>0</td>\n",
       "      <td>0</td>\n",
       "      <td>0</td>\n",
       "      <td>0</td>\n",
       "      <td>0</td>\n",
       "      <td>0</td>\n",
       "      <td>0</td>\n",
       "    </tr>\n",
       "    <tr>\n",
       "      <th>2</th>\n",
       "      <td>4</td>\n",
       "      <td>0</td>\n",
       "      <td>0</td>\n",
       "      <td>0</td>\n",
       "      <td>0</td>\n",
       "      <td>0</td>\n",
       "      <td>0</td>\n",
       "      <td>0</td>\n",
       "      <td>0</td>\n",
       "      <td>0</td>\n",
       "      <td>...</td>\n",
       "      <td>0</td>\n",
       "      <td>0</td>\n",
       "      <td>0</td>\n",
       "      <td>0</td>\n",
       "      <td>0</td>\n",
       "      <td>0</td>\n",
       "      <td>0</td>\n",
       "      <td>0</td>\n",
       "      <td>0</td>\n",
       "      <td>0</td>\n",
       "    </tr>\n",
       "  </tbody>\n",
       "</table>\n",
       "<p>3 rows × 785 columns</p>\n",
       "</div>"
      ],
      "text/plain": [
       "   0    1    2    3    4    5    6    7    8    9    ...  775  776  777  778  \\\n",
       "0    5    0    0    0    0    0    0    0    0    0  ...    0    0    0    0   \n",
       "1    0    0    0    0    0    0    0    0    0    0  ...    0    0    0    0   \n",
       "2    4    0    0    0    0    0    0    0    0    0  ...    0    0    0    0   \n",
       "\n",
       "   779  780  781  782  783  784  \n",
       "0    0    0    0    0    0    0  \n",
       "1    0    0    0    0    0    0  \n",
       "2    0    0    0    0    0    0  \n",
       "\n",
       "[3 rows x 785 columns]"
      ]
     },
     "execution_count": 78,
     "metadata": {},
     "output_type": "execute_result"
    }
   ],
   "source": [
    "import pandas as pd\n",
    "data = pd.read_csv('mnist_train_100.csv', header=None)\n",
    "data.head(3)"
   ]
  },
  {
   "cell_type": "code",
   "execution_count": 80,
   "id": "23477162-76c8-4b3f-a0d8-1b0a758e46a1",
   "metadata": {},
   "outputs": [],
   "source": [
    "# data.info()"
   ]
  },
  {
   "cell_type": "code",
   "execution_count": 84,
   "id": "3431af02-a65a-4d62-95a8-0dc655bf2ef1",
   "metadata": {},
   "outputs": [
    {
     "name": "stdout",
     "output_type": "stream",
     "text": [
      "[5 0 4 1 9 2 3 6 7 8]\n"
     ]
    }
   ],
   "source": [
    "print(data[0].unique())"
   ]
  },
  {
   "cell_type": "markdown",
   "id": "f7989088-b2e2-429f-9931-1438d90a9509",
   "metadata": {
    "id": "f7989088-b2e2-429f-9931-1438d90a9509"
   },
   "source": [
    "## cleaning"
   ]
  },
  {
   "cell_type": "code",
   "execution_count": 9,
   "id": "1c0d5339-2b83-4508-80ba-d6c0b6e346eb",
   "metadata": {
    "executionInfo": {
     "elapsed": 321,
     "status": "ok",
     "timestamp": 1744032481137,
     "user": {
      "displayName": "Javad Monsefi",
      "userId": "11903795943444044796"
     },
     "user_tz": -210
    },
    "id": "1c0d5339-2b83-4508-80ba-d6c0b6e346eb"
   },
   "outputs": [],
   "source": [
    "# clean the data"
   ]
  },
  {
   "cell_type": "markdown",
   "id": "2838a9bf-9947-469b-8d0b-7cba1efbcf50",
   "metadata": {
    "id": "2838a9bf-9947-469b-8d0b-7cba1efbcf50"
   },
   "source": [
    "## encoding"
   ]
  },
  {
   "cell_type": "code",
   "execution_count": 11,
   "id": "5410cb7b-d1a3-4b92-9799-004d38804d23",
   "metadata": {
    "executionInfo": {
     "elapsed": 3,
     "status": "ok",
     "timestamp": 1744032481462,
     "user": {
      "displayName": "Javad Monsefi",
      "userId": "11903795943444044796"
     },
     "user_tz": -210
    },
    "id": "5410cb7b-d1a3-4b92-9799-004d38804d23"
   },
   "outputs": [],
   "source": [
    "# encode the data"
   ]
  },
  {
   "cell_type": "markdown",
   "id": "f00440e9-de4d-4be5-8d43-2e93656d58fc",
   "metadata": {
    "id": "f00440e9-de4d-4be5-8d43-2e93656d58fc"
   },
   "source": [
    "## define x, y"
   ]
  },
  {
   "cell_type": "code",
   "execution_count": 86,
   "id": "70c2cef2-68d0-4507-b1be-9c128b2788ef",
   "metadata": {
    "colab": {
     "base_uri": "https://localhost:8080/"
    },
    "executionInfo": {
     "elapsed": 330,
     "status": "ok",
     "timestamp": 1744032486947,
     "user": {
      "displayName": "Javad Monsefi",
      "userId": "11903795943444044796"
     },
     "user_tz": -210
    },
    "id": "70c2cef2-68d0-4507-b1be-9c128b2788ef",
    "outputId": "68d3ef9d-6a5b-4812-ed69-308f259e2caf"
   },
   "outputs": [
    {
     "name": "stdout",
     "output_type": "stream",
     "text": [
      "[[0 0 0 ... 0 0 0]\n",
      " [0 0 0 ... 0 0 0]\n",
      " [0 0 0 ... 0 0 0]\n",
      " [0 0 0 ... 0 0 0]\n",
      " [0 0 0 ... 0 0 0]]\n"
     ]
    }
   ],
   "source": [
    "import numpy as np\n",
    "x = data.iloc[:, 1:].values\n",
    "print(x[:5])"
   ]
  },
  {
   "cell_type": "code",
   "execution_count": 88,
   "id": "Qfcb1BBxRRv9",
   "metadata": {
    "colab": {
     "base_uri": "https://localhost:8080/"
    },
    "executionInfo": {
     "elapsed": 352,
     "status": "ok",
     "timestamp": 1744032489130,
     "user": {
      "displayName": "Javad Monsefi",
      "userId": "11903795943444044796"
     },
     "user_tz": -210
    },
    "id": "Qfcb1BBxRRv9",
    "outputId": "67f7036f-f67b-48ce-a58c-8c4cea836d64"
   },
   "outputs": [
    {
     "name": "stdout",
     "output_type": "stream",
     "text": [
      "[5 0 4 1 9]\n"
     ]
    }
   ],
   "source": [
    "y = data.iloc[:, 0].values\n",
    "print(y[:5])"
   ]
  },
  {
   "cell_type": "markdown",
   "id": "5d588e1c-b8e7-497e-88e4-de557d4c4ed4",
   "metadata": {
    "id": "5d588e1c-b8e7-497e-88e4-de557d4c4ed4"
   },
   "source": [
    "##  spliting"
   ]
  },
  {
   "cell_type": "code",
   "execution_count": 90,
   "id": "17b80543-78fe-47af-a170-0c357857800a",
   "metadata": {
    "executionInfo": {
     "elapsed": 1112,
     "status": "ok",
     "timestamp": 1744032495025,
     "user": {
      "displayName": "Javad Monsefi",
      "userId": "11903795943444044796"
     },
     "user_tz": -210
    },
    "id": "17b80543-78fe-47af-a170-0c357857800a"
   },
   "outputs": [],
   "source": [
    "from sklearn.model_selection import train_test_split\n",
    "x_train, x_test, y_train, y_test = train_test_split(x, y, test_size=0.25, random_state=42)"
   ]
  },
  {
   "cell_type": "code",
   "execution_count": 92,
   "id": "Kzq86oc1R371",
   "metadata": {
    "colab": {
     "base_uri": "https://localhost:8080/"
    },
    "executionInfo": {
     "elapsed": 322,
     "status": "ok",
     "timestamp": 1744032498550,
     "user": {
      "displayName": "Javad Monsefi",
      "userId": "11903795943444044796"
     },
     "user_tz": -210
    },
    "id": "Kzq86oc1R371",
    "outputId": "98c4f675-9039-4340-dbf4-99b62f6b4ac0"
   },
   "outputs": [
    {
     "data": {
      "text/plain": [
       "(75, 784)"
      ]
     },
     "execution_count": 92,
     "metadata": {},
     "output_type": "execute_result"
    }
   ],
   "source": [
    "x_train.shape"
   ]
  },
  {
   "cell_type": "code",
   "execution_count": 94,
   "id": "3fWvb349R-P0",
   "metadata": {
    "colab": {
     "base_uri": "https://localhost:8080/"
    },
    "executionInfo": {
     "elapsed": 314,
     "status": "ok",
     "timestamp": 1744032506334,
     "user": {
      "displayName": "Javad Monsefi",
      "userId": "11903795943444044796"
     },
     "user_tz": -210
    },
    "id": "3fWvb349R-P0",
    "outputId": "72f06eba-d2c2-43db-9995-dc324930be20"
   },
   "outputs": [
    {
     "data": {
      "text/plain": [
       "(784,)"
      ]
     },
     "execution_count": 94,
     "metadata": {},
     "output_type": "execute_result"
    }
   ],
   "source": [
    "x_train[0].shape"
   ]
  },
  {
   "cell_type": "code",
   "execution_count": 96,
   "id": "1K-VQzTRR7jm",
   "metadata": {
    "colab": {
     "base_uri": "https://localhost:8080/"
    },
    "executionInfo": {
     "elapsed": 341,
     "status": "ok",
     "timestamp": 1744032503550,
     "user": {
      "displayName": "Javad Monsefi",
      "userId": "11903795943444044796"
     },
     "user_tz": -210
    },
    "id": "1K-VQzTRR7jm",
    "outputId": "20f4da00-2e8f-4120-fbc6-1edcacce0338"
   },
   "outputs": [
    {
     "data": {
      "text/plain": [
       "(25, 784)"
      ]
     },
     "execution_count": 96,
     "metadata": {},
     "output_type": "execute_result"
    }
   ],
   "source": [
    "x_test.shape"
   ]
  },
  {
   "cell_type": "code",
   "execution_count": 98,
   "id": "Al9oUzYkSwpd",
   "metadata": {
    "colab": {
     "base_uri": "https://localhost:8080/"
    },
    "executionInfo": {
     "elapsed": 417,
     "status": "ok",
     "timestamp": 1744032526950,
     "user": {
      "displayName": "Javad Monsefi",
      "userId": "11903795943444044796"
     },
     "user_tz": -210
    },
    "id": "Al9oUzYkSwpd",
    "outputId": "4b0ed771-4cb1-4a48-a5aa-b8a00effbed3"
   },
   "outputs": [
    {
     "data": {
      "text/plain": [
       "(75,)"
      ]
     },
     "execution_count": 98,
     "metadata": {},
     "output_type": "execute_result"
    }
   ],
   "source": [
    "y_train.shape"
   ]
  },
  {
   "cell_type": "code",
   "execution_count": 100,
   "id": "2VZowhvzS-Fj",
   "metadata": {
    "colab": {
     "base_uri": "https://localhost:8080/"
    },
    "executionInfo": {
     "elapsed": 2,
     "status": "ok",
     "timestamp": 1744032528409,
     "user": {
      "displayName": "Javad Monsefi",
      "userId": "11903795943444044796"
     },
     "user_tz": -210
    },
    "id": "2VZowhvzS-Fj",
    "outputId": "f4209fef-8be4-45d7-e660-42066f2af809"
   },
   "outputs": [
    {
     "data": {
      "text/plain": [
       "(25,)"
      ]
     },
     "execution_count": 100,
     "metadata": {},
     "output_type": "execute_result"
    }
   ],
   "source": [
    "y_test.shape"
   ]
  },
  {
   "cell_type": "code",
   "execution_count": 102,
   "id": "8eV6KVtYTZwP",
   "metadata": {
    "colab": {
     "base_uri": "https://localhost:8080/"
    },
    "executionInfo": {
     "elapsed": 333,
     "status": "ok",
     "timestamp": 1744032539319,
     "user": {
      "displayName": "Javad Monsefi",
      "userId": "11903795943444044796"
     },
     "user_tz": -210
    },
    "id": "8eV6KVtYTZwP",
    "outputId": "e6614541-d21f-4160-f94d-6f002e83dd59"
   },
   "outputs": [
    {
     "data": {
      "text/plain": [
       "10"
      ]
     },
     "execution_count": 102,
     "metadata": {},
     "output_type": "execute_result"
    }
   ],
   "source": [
    "len(set(y_test))"
   ]
  },
  {
   "cell_type": "markdown",
   "id": "8856e2eb-b2a4-4cf4-8062-1715598126e9",
   "metadata": {
    "id": "8856e2eb-b2a4-4cf4-8062-1715598126e9"
   },
   "source": [
    "## scaling"
   ]
  },
  {
   "cell_type": "code",
   "execution_count": 105,
   "id": "9b8cf229-6b7c-47f6-8de5-4c6892c4bbec",
   "metadata": {
    "executionInfo": {
     "elapsed": 378,
     "status": "ok",
     "timestamp": 1744032545718,
     "user": {
      "displayName": "Javad Monsefi",
      "userId": "11903795943444044796"
     },
     "user_tz": -210
    },
    "id": "9b8cf229-6b7c-47f6-8de5-4c6892c4bbec"
   },
   "outputs": [],
   "source": [
    "from sklearn.preprocessing import MinMaxScaler\n",
    "mms = MinMaxScaler().fit(x_train)\n",
    "x_train = mms.transform(x_train)\n",
    "x_test = mms.transform(x_test)"
   ]
  },
  {
   "cell_type": "markdown",
   "id": "8de5461c-c86e-48a5-8ea8-ba4fe77053b8",
   "metadata": {
    "id": "8de5461c-c86e-48a5-8ea8-ba4fe77053b8"
   },
   "source": [
    "## create, compile and fit the model"
   ]
  },
  {
   "cell_type": "markdown",
   "id": "SaaIEudGRk1l",
   "metadata": {
    "id": "SaaIEudGRk1l"
   },
   "source": [
    "### Sequential"
   ]
  },
  {
   "cell_type": "code",
   "execution_count": 109,
   "id": "8Igiym9zRpe8",
   "metadata": {
    "executionInfo": {
     "elapsed": 3868,
     "status": "ok",
     "timestamp": 1744032566129,
     "user": {
      "displayName": "Javad Monsefi",
      "userId": "11903795943444044796"
     },
     "user_tz": -210
    },
    "id": "8Igiym9zRpe8"
   },
   "outputs": [],
   "source": [
    "from tensorflow.keras.layers import Input, Dense, Dropout, BatchNormalization\n",
    "from tensorflow.keras.models import Sequential\n",
    "from tensorflow.keras import regularizers"
   ]
  },
  {
   "cell_type": "code",
   "execution_count": 111,
   "id": "ab0b37b9-19e3-418f-938b-9c8bb2defb64",
   "metadata": {
    "executionInfo": {
     "elapsed": 319,
     "status": "ok",
     "timestamp": 1744032613579,
     "user": {
      "displayName": "Javad Monsefi",
      "userId": "11903795943444044796"
     },
     "user_tz": -210
    },
    "id": "ab0b37b9-19e3-418f-938b-9c8bb2defb64"
   },
   "outputs": [],
   "source": [
    "model = Sequential([\n",
    "    Input(shape=x_train[0].shape),    # (11,)\n",
    "    Dense(50, activation='relu'),\n",
    "    Dropout(0.2),\n",
    "    Dense(30, activation='relu'),\n",
    "    Dropout(0.3),\n",
    "    Dense(10, activation='softmax')\n",
    "])"
   ]
  },
  {
   "cell_type": "code",
   "execution_count": 113,
   "id": "rTAa1sjZSD11",
   "metadata": {
    "colab": {
     "base_uri": "https://localhost:8080/",
     "height": 303
    },
    "executionInfo": {
     "elapsed": 324,
     "status": "ok",
     "timestamp": 1744032616164,
     "user": {
      "displayName": "Javad Monsefi",
      "userId": "11903795943444044796"
     },
     "user_tz": -210
    },
    "id": "rTAa1sjZSD11",
    "outputId": "6fdf2de6-dc33-4b90-b96b-109ae9714796"
   },
   "outputs": [
    {
     "data": {
      "text/html": [
       "<pre style=\"white-space:pre;overflow-x:auto;line-height:normal;font-family:Menlo,'DejaVu Sans Mono',consolas,'Courier New',monospace\"><span style=\"font-weight: bold\">Model: \"sequential_1\"</span>\n",
       "</pre>\n"
      ],
      "text/plain": [
       "\u001b[1mModel: \"sequential_1\"\u001b[0m\n"
      ]
     },
     "metadata": {},
     "output_type": "display_data"
    },
    {
     "data": {
      "text/html": [
       "<pre style=\"white-space:pre;overflow-x:auto;line-height:normal;font-family:Menlo,'DejaVu Sans Mono',consolas,'Courier New',monospace\">┏━━━━━━━━━━━━━━━━━━━━━━━━━━━━━━━━━━━━━━┳━━━━━━━━━━━━━━━━━━━━━━━━━━━━━┳━━━━━━━━━━━━━━━━━┓\n",
       "┃<span style=\"font-weight: bold\"> Layer (type)                         </span>┃<span style=\"font-weight: bold\"> Output Shape                </span>┃<span style=\"font-weight: bold\">         Param # </span>┃\n",
       "┡━━━━━━━━━━━━━━━━━━━━━━━━━━━━━━━━━━━━━━╇━━━━━━━━━━━━━━━━━━━━━━━━━━━━━╇━━━━━━━━━━━━━━━━━┩\n",
       "│ dense_3 (<span style=\"color: #0087ff; text-decoration-color: #0087ff\">Dense</span>)                      │ (<span style=\"color: #00d7ff; text-decoration-color: #00d7ff\">None</span>, <span style=\"color: #00af00; text-decoration-color: #00af00\">50</span>)                  │          <span style=\"color: #00af00; text-decoration-color: #00af00\">39,250</span> │\n",
       "├──────────────────────────────────────┼─────────────────────────────┼─────────────────┤\n",
       "│ dropout_2 (<span style=\"color: #0087ff; text-decoration-color: #0087ff\">Dropout</span>)                  │ (<span style=\"color: #00d7ff; text-decoration-color: #00d7ff\">None</span>, <span style=\"color: #00af00; text-decoration-color: #00af00\">50</span>)                  │               <span style=\"color: #00af00; text-decoration-color: #00af00\">0</span> │\n",
       "├──────────────────────────────────────┼─────────────────────────────┼─────────────────┤\n",
       "│ dense_4 (<span style=\"color: #0087ff; text-decoration-color: #0087ff\">Dense</span>)                      │ (<span style=\"color: #00d7ff; text-decoration-color: #00d7ff\">None</span>, <span style=\"color: #00af00; text-decoration-color: #00af00\">30</span>)                  │           <span style=\"color: #00af00; text-decoration-color: #00af00\">1,530</span> │\n",
       "├──────────────────────────────────────┼─────────────────────────────┼─────────────────┤\n",
       "│ dropout_3 (<span style=\"color: #0087ff; text-decoration-color: #0087ff\">Dropout</span>)                  │ (<span style=\"color: #00d7ff; text-decoration-color: #00d7ff\">None</span>, <span style=\"color: #00af00; text-decoration-color: #00af00\">30</span>)                  │               <span style=\"color: #00af00; text-decoration-color: #00af00\">0</span> │\n",
       "├──────────────────────────────────────┼─────────────────────────────┼─────────────────┤\n",
       "│ dense_5 (<span style=\"color: #0087ff; text-decoration-color: #0087ff\">Dense</span>)                      │ (<span style=\"color: #00d7ff; text-decoration-color: #00d7ff\">None</span>, <span style=\"color: #00af00; text-decoration-color: #00af00\">10</span>)                  │             <span style=\"color: #00af00; text-decoration-color: #00af00\">310</span> │\n",
       "└──────────────────────────────────────┴─────────────────────────────┴─────────────────┘\n",
       "</pre>\n"
      ],
      "text/plain": [
       "┏━━━━━━━━━━━━━━━━━━━━━━━━━━━━━━━━━━━━━━┳━━━━━━━━━━━━━━━━━━━━━━━━━━━━━┳━━━━━━━━━━━━━━━━━┓\n",
       "┃\u001b[1m \u001b[0m\u001b[1mLayer (type)                        \u001b[0m\u001b[1m \u001b[0m┃\u001b[1m \u001b[0m\u001b[1mOutput Shape               \u001b[0m\u001b[1m \u001b[0m┃\u001b[1m \u001b[0m\u001b[1m        Param #\u001b[0m\u001b[1m \u001b[0m┃\n",
       "┡━━━━━━━━━━━━━━━━━━━━━━━━━━━━━━━━━━━━━━╇━━━━━━━━━━━━━━━━━━━━━━━━━━━━━╇━━━━━━━━━━━━━━━━━┩\n",
       "│ dense_3 (\u001b[38;5;33mDense\u001b[0m)                      │ (\u001b[38;5;45mNone\u001b[0m, \u001b[38;5;34m50\u001b[0m)                  │          \u001b[38;5;34m39,250\u001b[0m │\n",
       "├──────────────────────────────────────┼─────────────────────────────┼─────────────────┤\n",
       "│ dropout_2 (\u001b[38;5;33mDropout\u001b[0m)                  │ (\u001b[38;5;45mNone\u001b[0m, \u001b[38;5;34m50\u001b[0m)                  │               \u001b[38;5;34m0\u001b[0m │\n",
       "├──────────────────────────────────────┼─────────────────────────────┼─────────────────┤\n",
       "│ dense_4 (\u001b[38;5;33mDense\u001b[0m)                      │ (\u001b[38;5;45mNone\u001b[0m, \u001b[38;5;34m30\u001b[0m)                  │           \u001b[38;5;34m1,530\u001b[0m │\n",
       "├──────────────────────────────────────┼─────────────────────────────┼─────────────────┤\n",
       "│ dropout_3 (\u001b[38;5;33mDropout\u001b[0m)                  │ (\u001b[38;5;45mNone\u001b[0m, \u001b[38;5;34m30\u001b[0m)                  │               \u001b[38;5;34m0\u001b[0m │\n",
       "├──────────────────────────────────────┼─────────────────────────────┼─────────────────┤\n",
       "│ dense_5 (\u001b[38;5;33mDense\u001b[0m)                      │ (\u001b[38;5;45mNone\u001b[0m, \u001b[38;5;34m10\u001b[0m)                  │             \u001b[38;5;34m310\u001b[0m │\n",
       "└──────────────────────────────────────┴─────────────────────────────┴─────────────────┘\n"
      ]
     },
     "metadata": {},
     "output_type": "display_data"
    },
    {
     "data": {
      "text/html": [
       "<pre style=\"white-space:pre;overflow-x:auto;line-height:normal;font-family:Menlo,'DejaVu Sans Mono',consolas,'Courier New',monospace\"><span style=\"font-weight: bold\"> Total params: </span><span style=\"color: #00af00; text-decoration-color: #00af00\">41,090</span> (160.51 KB)\n",
       "</pre>\n"
      ],
      "text/plain": [
       "\u001b[1m Total params: \u001b[0m\u001b[38;5;34m41,090\u001b[0m (160.51 KB)\n"
      ]
     },
     "metadata": {},
     "output_type": "display_data"
    },
    {
     "data": {
      "text/html": [
       "<pre style=\"white-space:pre;overflow-x:auto;line-height:normal;font-family:Menlo,'DejaVu Sans Mono',consolas,'Courier New',monospace\"><span style=\"font-weight: bold\"> Trainable params: </span><span style=\"color: #00af00; text-decoration-color: #00af00\">41,090</span> (160.51 KB)\n",
       "</pre>\n"
      ],
      "text/plain": [
       "\u001b[1m Trainable params: \u001b[0m\u001b[38;5;34m41,090\u001b[0m (160.51 KB)\n"
      ]
     },
     "metadata": {},
     "output_type": "display_data"
    },
    {
     "data": {
      "text/html": [
       "<pre style=\"white-space:pre;overflow-x:auto;line-height:normal;font-family:Menlo,'DejaVu Sans Mono',consolas,'Courier New',monospace\"><span style=\"font-weight: bold\"> Non-trainable params: </span><span style=\"color: #00af00; text-decoration-color: #00af00\">0</span> (0.00 B)\n",
       "</pre>\n"
      ],
      "text/plain": [
       "\u001b[1m Non-trainable params: \u001b[0m\u001b[38;5;34m0\u001b[0m (0.00 B)\n"
      ]
     },
     "metadata": {},
     "output_type": "display_data"
    }
   ],
   "source": [
    "model.summary()"
   ]
  },
  {
   "cell_type": "code",
   "execution_count": 115,
   "id": "db4686ae-37b1-4aa2-b9b8-d7f706281899",
   "metadata": {
    "executionInfo": {
     "elapsed": 3,
     "status": "ok",
     "timestamp": 1744032620254,
     "user": {
      "displayName": "Javad Monsefi",
      "userId": "11903795943444044796"
     },
     "user_tz": -210
    },
    "id": "db4686ae-37b1-4aa2-b9b8-d7f706281899"
   },
   "outputs": [],
   "source": [
    "model.compile(\n",
    "    optimizer='adam',\n",
    "    loss='sparse_categorical_crossentropy',\n",
    "    metrics=['accuracy']\n",
    ")"
   ]
  },
  {
   "cell_type": "code",
   "execution_count": 117,
   "id": "e80ee64d-9278-4066-b003-8561cb13765a",
   "metadata": {
    "colab": {
     "base_uri": "https://localhost:8080/"
    },
    "executionInfo": {
     "elapsed": 16897,
     "status": "ok",
     "timestamp": 1744032643498,
     "user": {
      "displayName": "Javad Monsefi",
      "userId": "11903795943444044796"
     },
     "user_tz": -210
    },
    "id": "e80ee64d-9278-4066-b003-8561cb13765a",
    "outputId": "f6d8b029-40de-4533-f9b4-1721f2cf900d"
   },
   "outputs": [
    {
     "name": "stdout",
     "output_type": "stream",
     "text": [
      "Epoch 1/150\n",
      "\u001b[1m3/3\u001b[0m \u001b[32m━━━━━━━━━━━━━━━━━━━━\u001b[0m\u001b[37m\u001b[0m \u001b[1m3s\u001b[0m 449ms/step - accuracy: 0.0568 - loss: 2.3306 - val_accuracy: 0.3600 - val_loss: 3.8943\n",
      "Epoch 2/150\n",
      "\u001b[1m3/3\u001b[0m \u001b[32m━━━━━━━━━━━━━━━━━━━━\u001b[0m\u001b[37m\u001b[0m \u001b[1m0s\u001b[0m 61ms/step - accuracy: 0.1843 - loss: 2.2251 - val_accuracy: 0.2800 - val_loss: 3.8422\n",
      "Epoch 3/150\n",
      "\u001b[1m3/3\u001b[0m \u001b[32m━━━━━━━━━━━━━━━━━━━━\u001b[0m\u001b[37m\u001b[0m \u001b[1m0s\u001b[0m 56ms/step - accuracy: 0.2333 - loss: 2.1361 - val_accuracy: 0.2000 - val_loss: 3.8116\n",
      "Epoch 4/150\n",
      "\u001b[1m3/3\u001b[0m \u001b[32m━━━━━━━━━━━━━━━━━━━━\u001b[0m\u001b[37m\u001b[0m \u001b[1m0s\u001b[0m 77ms/step - accuracy: 0.2422 - loss: 2.0205 - val_accuracy: 0.2800 - val_loss: 3.7858\n",
      "Epoch 5/150\n",
      "\u001b[1m3/3\u001b[0m \u001b[32m━━━━━━━━━━━━━━━━━━━━\u001b[0m\u001b[37m\u001b[0m \u001b[1m0s\u001b[0m 58ms/step - accuracy: 0.4043 - loss: 1.9441 - val_accuracy: 0.3200 - val_loss: 3.7672\n",
      "Epoch 6/150\n",
      "\u001b[1m3/3\u001b[0m \u001b[32m━━━━━━━━━━━━━━━━━━━━\u001b[0m\u001b[37m\u001b[0m \u001b[1m0s\u001b[0m 63ms/step - accuracy: 0.3441 - loss: 1.8819 - val_accuracy: 0.3600 - val_loss: 3.7371\n",
      "Epoch 7/150\n",
      "\u001b[1m3/3\u001b[0m \u001b[32m━━━━━━━━━━━━━━━━━━━━\u001b[0m\u001b[37m\u001b[0m \u001b[1m0s\u001b[0m 66ms/step - accuracy: 0.4282 - loss: 1.7627 - val_accuracy: 0.4400 - val_loss: 3.7091\n",
      "Epoch 8/150\n",
      "\u001b[1m3/3\u001b[0m \u001b[32m━━━━━━━━━━━━━━━━━━━━\u001b[0m\u001b[37m\u001b[0m \u001b[1m0s\u001b[0m 57ms/step - accuracy: 0.4548 - loss: 1.6585 - val_accuracy: 0.4400 - val_loss: 3.6952\n",
      "Epoch 9/150\n",
      "\u001b[1m3/3\u001b[0m \u001b[32m━━━━━━━━━━━━━━━━━━━━\u001b[0m\u001b[37m\u001b[0m \u001b[1m0s\u001b[0m 73ms/step - accuracy: 0.5351 - loss: 1.6382 - val_accuracy: 0.4800 - val_loss: 3.6820\n",
      "Epoch 10/150\n",
      "\u001b[1m3/3\u001b[0m \u001b[32m━━━━━━━━━━━━━━━━━━━━\u001b[0m\u001b[37m\u001b[0m \u001b[1m0s\u001b[0m 86ms/step - accuracy: 0.3852 - loss: 1.6409 - val_accuracy: 0.5200 - val_loss: 3.6727\n",
      "Epoch 11/150\n",
      "\u001b[1m3/3\u001b[0m \u001b[32m━━━━━━━━━━━━━━━━━━━━\u001b[0m\u001b[37m\u001b[0m \u001b[1m0s\u001b[0m 69ms/step - accuracy: 0.5629 - loss: 1.5181 - val_accuracy: 0.5600 - val_loss: 3.6672\n",
      "Epoch 12/150\n",
      "\u001b[1m3/3\u001b[0m \u001b[32m━━━━━━━━━━━━━━━━━━━━\u001b[0m\u001b[37m\u001b[0m \u001b[1m0s\u001b[0m 74ms/step - accuracy: 0.5339 - loss: 1.5829 - val_accuracy: 0.6000 - val_loss: 3.6462\n",
      "Epoch 13/150\n",
      "\u001b[1m3/3\u001b[0m \u001b[32m━━━━━━━━━━━━━━━━━━━━\u001b[0m\u001b[37m\u001b[0m \u001b[1m0s\u001b[0m 59ms/step - accuracy: 0.5284 - loss: 1.3874 - val_accuracy: 0.6000 - val_loss: 3.6293\n",
      "Epoch 14/150\n",
      "\u001b[1m3/3\u001b[0m \u001b[32m━━━━━━━━━━━━━━━━━━━━\u001b[0m\u001b[37m\u001b[0m \u001b[1m0s\u001b[0m 59ms/step - accuracy: 0.6164 - loss: 1.2880 - val_accuracy: 0.6000 - val_loss: 3.6185\n",
      "Epoch 15/150\n",
      "\u001b[1m3/3\u001b[0m \u001b[32m━━━━━━━━━━━━━━━━━━━━\u001b[0m\u001b[37m\u001b[0m \u001b[1m0s\u001b[0m 55ms/step - accuracy: 0.6576 - loss: 1.2396 - val_accuracy: 0.6000 - val_loss: 3.6195\n",
      "Epoch 16/150\n",
      "\u001b[1m3/3\u001b[0m \u001b[32m━━━━━━━━━━━━━━━━━━━━\u001b[0m\u001b[37m\u001b[0m \u001b[1m0s\u001b[0m 66ms/step - accuracy: 0.7005 - loss: 1.1236 - val_accuracy: 0.6000 - val_loss: 3.6345\n",
      "Epoch 17/150\n",
      "\u001b[1m3/3\u001b[0m \u001b[32m━━━━━━━━━━━━━━━━━━━━\u001b[0m\u001b[37m\u001b[0m \u001b[1m0s\u001b[0m 54ms/step - accuracy: 0.6670 - loss: 1.1438 - val_accuracy: 0.6000 - val_loss: 3.6481\n",
      "Epoch 18/150\n",
      "\u001b[1m3/3\u001b[0m \u001b[32m━━━━━━━━━━━━━━━━━━━━\u001b[0m\u001b[37m\u001b[0m \u001b[1m0s\u001b[0m 72ms/step - accuracy: 0.7260 - loss: 1.0314 - val_accuracy: 0.6000 - val_loss: 3.6474\n",
      "Epoch 19/150\n",
      "\u001b[1m3/3\u001b[0m \u001b[32m━━━━━━━━━━━━━━━━━━━━\u001b[0m\u001b[37m\u001b[0m \u001b[1m0s\u001b[0m 71ms/step - accuracy: 0.7902 - loss: 0.9604 - val_accuracy: 0.6000 - val_loss: 3.6389\n",
      "Epoch 20/150\n",
      "\u001b[1m3/3\u001b[0m \u001b[32m━━━━━━━━━━━━━━━━━━━━\u001b[0m\u001b[37m\u001b[0m \u001b[1m0s\u001b[0m 66ms/step - accuracy: 0.8062 - loss: 0.8347 - val_accuracy: 0.6000 - val_loss: 3.6328\n",
      "Epoch 21/150\n",
      "\u001b[1m3/3\u001b[0m \u001b[32m━━━━━━━━━━━━━━━━━━━━\u001b[0m\u001b[37m\u001b[0m \u001b[1m0s\u001b[0m 64ms/step - accuracy: 0.7366 - loss: 0.9443 - val_accuracy: 0.6000 - val_loss: 3.6265\n",
      "Epoch 22/150\n",
      "\u001b[1m3/3\u001b[0m \u001b[32m━━━━━━━━━━━━━━━━━━━━\u001b[0m\u001b[37m\u001b[0m \u001b[1m0s\u001b[0m 74ms/step - accuracy: 0.6392 - loss: 1.1059 - val_accuracy: 0.6000 - val_loss: 3.6133\n",
      "Epoch 23/150\n",
      "\u001b[1m3/3\u001b[0m \u001b[32m━━━━━━━━━━━━━━━━━━━━\u001b[0m\u001b[37m\u001b[0m \u001b[1m0s\u001b[0m 59ms/step - accuracy: 0.7844 - loss: 0.8401 - val_accuracy: 0.6000 - val_loss: 3.5806\n",
      "Epoch 24/150\n",
      "\u001b[1m3/3\u001b[0m \u001b[32m━━━━━━━━━━━━━━━━━━━━\u001b[0m\u001b[37m\u001b[0m \u001b[1m0s\u001b[0m 87ms/step - accuracy: 0.6920 - loss: 0.9733 - val_accuracy: 0.6000 - val_loss: 3.5753\n",
      "Epoch 25/150\n",
      "\u001b[1m3/3\u001b[0m \u001b[32m━━━━━━━━━━━━━━━━━━━━\u001b[0m\u001b[37m\u001b[0m \u001b[1m0s\u001b[0m 100ms/step - accuracy: 0.7260 - loss: 0.8466 - val_accuracy: 0.6000 - val_loss: 3.5923\n",
      "Epoch 26/150\n",
      "\u001b[1m3/3\u001b[0m \u001b[32m━━━━━━━━━━━━━━━━━━━━\u001b[0m\u001b[37m\u001b[0m \u001b[1m0s\u001b[0m 97ms/step - accuracy: 0.7617 - loss: 0.6839 - val_accuracy: 0.6000 - val_loss: 3.5957\n",
      "Epoch 27/150\n",
      "\u001b[1m3/3\u001b[0m \u001b[32m━━━━━━━━━━━━━━━━━━━━\u001b[0m\u001b[37m\u001b[0m \u001b[1m0s\u001b[0m 58ms/step - accuracy: 0.8285 - loss: 0.6077 - val_accuracy: 0.6400 - val_loss: 3.5658\n",
      "Epoch 28/150\n",
      "\u001b[1m3/3\u001b[0m \u001b[32m━━━━━━━━━━━━━━━━━━━━\u001b[0m\u001b[37m\u001b[0m \u001b[1m0s\u001b[0m 58ms/step - accuracy: 0.8168 - loss: 0.6778 - val_accuracy: 0.6400 - val_loss: 3.5405\n",
      "Epoch 29/150\n",
      "\u001b[1m3/3\u001b[0m \u001b[32m━━━━━━━━━━━━━━━━━━━━\u001b[0m\u001b[37m\u001b[0m \u001b[1m0s\u001b[0m 85ms/step - accuracy: 0.7237 - loss: 0.7727 - val_accuracy: 0.6400 - val_loss: 3.5053\n",
      "Epoch 30/150\n",
      "\u001b[1m3/3\u001b[0m \u001b[32m━━━━━━━━━━━━━━━━━━━━\u001b[0m\u001b[37m\u001b[0m \u001b[1m0s\u001b[0m 58ms/step - accuracy: 0.8285 - loss: 0.5476 - val_accuracy: 0.6400 - val_loss: 3.4970\n",
      "Epoch 31/150\n",
      "\u001b[1m3/3\u001b[0m \u001b[32m━━━━━━━━━━━━━━━━━━━━\u001b[0m\u001b[37m\u001b[0m \u001b[1m0s\u001b[0m 62ms/step - accuracy: 0.8368 - loss: 0.5837 - val_accuracy: 0.6400 - val_loss: 3.4821\n",
      "Epoch 32/150\n",
      "\u001b[1m3/3\u001b[0m \u001b[32m━━━━━━━━━━━━━━━━━━━━\u001b[0m\u001b[37m\u001b[0m \u001b[1m0s\u001b[0m 75ms/step - accuracy: 0.8904 - loss: 0.5131 - val_accuracy: 0.6400 - val_loss: 3.4522\n",
      "Epoch 33/150\n",
      "\u001b[1m3/3\u001b[0m \u001b[32m━━━━━━━━━━━━━━━━━━━━\u001b[0m\u001b[37m\u001b[0m \u001b[1m0s\u001b[0m 74ms/step - accuracy: 0.8435 - loss: 0.5029 - val_accuracy: 0.6400 - val_loss: 3.4235\n",
      "Epoch 34/150\n",
      "\u001b[1m3/3\u001b[0m \u001b[32m━━━━━━━━━━━━━━━━━━━━\u001b[0m\u001b[37m\u001b[0m \u001b[1m0s\u001b[0m 77ms/step - accuracy: 0.9076 - loss: 0.4451 - val_accuracy: 0.6400 - val_loss: 3.4017\n",
      "Epoch 35/150\n",
      "\u001b[1m3/3\u001b[0m \u001b[32m━━━━━━━━━━━━━━━━━━━━\u001b[0m\u001b[37m\u001b[0m \u001b[1m0s\u001b[0m 62ms/step - accuracy: 0.8118 - loss: 0.5883 - val_accuracy: 0.6400 - val_loss: 3.3951\n",
      "Epoch 36/150\n",
      "\u001b[1m3/3\u001b[0m \u001b[32m━━━━━━━━━━━━━━━━━━━━\u001b[0m\u001b[37m\u001b[0m \u001b[1m0s\u001b[0m 69ms/step - accuracy: 0.8970 - loss: 0.4007 - val_accuracy: 0.6400 - val_loss: 3.3810\n",
      "Epoch 37/150\n",
      "\u001b[1m3/3\u001b[0m \u001b[32m━━━━━━━━━━━━━━━━━━━━\u001b[0m\u001b[37m\u001b[0m \u001b[1m0s\u001b[0m 73ms/step - accuracy: 0.8184 - loss: 0.5451 - val_accuracy: 0.6400 - val_loss: 3.3541\n",
      "Epoch 38/150\n",
      "\u001b[1m3/3\u001b[0m \u001b[32m━━━━━━━━━━━━━━━━━━━━\u001b[0m\u001b[37m\u001b[0m \u001b[1m0s\u001b[0m 79ms/step - accuracy: 0.8747 - loss: 0.3781 - val_accuracy: 0.6400 - val_loss: 3.3389\n",
      "Epoch 39/150\n",
      "\u001b[1m3/3\u001b[0m \u001b[32m━━━━━━━━━━━━━━━━━━━━\u001b[0m\u001b[37m\u001b[0m \u001b[1m0s\u001b[0m 77ms/step - accuracy: 0.9432 - loss: 0.4045 - val_accuracy: 0.6400 - val_loss: 3.3536\n",
      "Epoch 40/150\n",
      "\u001b[1m3/3\u001b[0m \u001b[32m━━━━━━━━━━━━━━━━━━━━\u001b[0m\u001b[37m\u001b[0m \u001b[1m0s\u001b[0m 56ms/step - accuracy: 0.9237 - loss: 0.3988 - val_accuracy: 0.6400 - val_loss: 3.3619\n",
      "Epoch 41/150\n",
      "\u001b[1m3/3\u001b[0m \u001b[32m━━━━━━━━━━━━━━━━━━━━\u001b[0m\u001b[37m\u001b[0m \u001b[1m1s\u001b[0m 177ms/step - accuracy: 0.8580 - loss: 0.4778 - val_accuracy: 0.6400 - val_loss: 3.3680\n",
      "Epoch 42/150\n",
      "\u001b[1m3/3\u001b[0m \u001b[32m━━━━━━━━━━━━━━━━━━━━\u001b[0m\u001b[37m\u001b[0m \u001b[1m0s\u001b[0m 109ms/step - accuracy: 0.9209 - loss: 0.3852 - val_accuracy: 0.6400 - val_loss: 3.3593\n",
      "Epoch 43/150\n",
      "\u001b[1m3/3\u001b[0m \u001b[32m━━━━━━━━━━━━━━━━━━━━\u001b[0m\u001b[37m\u001b[0m \u001b[1m0s\u001b[0m 72ms/step - accuracy: 0.8869 - loss: 0.3383 - val_accuracy: 0.6400 - val_loss: 3.3438\n",
      "Epoch 44/150\n",
      "\u001b[1m3/3\u001b[0m \u001b[32m━━━━━━━━━━━━━━━━━━━━\u001b[0m\u001b[37m\u001b[0m \u001b[1m0s\u001b[0m 67ms/step - accuracy: 0.9421 - loss: 0.3644 - val_accuracy: 0.6400 - val_loss: 3.3071\n",
      "Epoch 45/150\n",
      "\u001b[1m3/3\u001b[0m \u001b[32m━━━━━━━━━━━━━━━━━━━━\u001b[0m\u001b[37m\u001b[0m \u001b[1m0s\u001b[0m 74ms/step - accuracy: 0.9471 - loss: 0.2702 - val_accuracy: 0.6000 - val_loss: 3.2698\n",
      "Epoch 46/150\n",
      "\u001b[1m3/3\u001b[0m \u001b[32m━━━━━━━━━━━━━━━━━━━━\u001b[0m\u001b[37m\u001b[0m \u001b[1m0s\u001b[0m 95ms/step - accuracy: 0.9104 - loss: 0.3366 - val_accuracy: 0.6400 - val_loss: 3.2103\n",
      "Epoch 47/150\n",
      "\u001b[1m3/3\u001b[0m \u001b[32m━━━━━━━━━━━━━━━━━━━━\u001b[0m\u001b[37m\u001b[0m \u001b[1m0s\u001b[0m 80ms/step - accuracy: 0.9026 - loss: 0.3300 - val_accuracy: 0.6400 - val_loss: 3.1346\n",
      "Epoch 48/150\n",
      "\u001b[1m3/3\u001b[0m \u001b[32m━━━━━━━━━━━━━━━━━━━━\u001b[0m\u001b[37m\u001b[0m \u001b[1m0s\u001b[0m 67ms/step - accuracy: 0.9710 - loss: 0.2566 - val_accuracy: 0.6800 - val_loss: 3.1062\n",
      "Epoch 49/150\n",
      "\u001b[1m3/3\u001b[0m \u001b[32m━━━━━━━━━━━━━━━━━━━━\u001b[0m\u001b[37m\u001b[0m \u001b[1m0s\u001b[0m 69ms/step - accuracy: 0.9248 - loss: 0.3791 - val_accuracy: 0.6800 - val_loss: 3.1109\n",
      "Epoch 50/150\n",
      "\u001b[1m3/3\u001b[0m \u001b[32m━━━━━━━━━━━━━━━━━━━━\u001b[0m\u001b[37m\u001b[0m \u001b[1m0s\u001b[0m 66ms/step - accuracy: 0.9405 - loss: 0.2819 - val_accuracy: 0.6800 - val_loss: 3.1192\n",
      "Epoch 51/150\n",
      "\u001b[1m3/3\u001b[0m \u001b[32m━━━━━━━━━━━━━━━━━━━━\u001b[0m\u001b[37m\u001b[0m \u001b[1m0s\u001b[0m 66ms/step - accuracy: 0.9026 - loss: 0.3190 - val_accuracy: 0.6800 - val_loss: 3.1385\n",
      "Epoch 52/150\n",
      "\u001b[1m3/3\u001b[0m \u001b[32m━━━━━━━━━━━━━━━━━━━━\u001b[0m\u001b[37m\u001b[0m \u001b[1m0s\u001b[0m 66ms/step - accuracy: 0.9421 - loss: 0.2827 - val_accuracy: 0.6800 - val_loss: 3.1473\n",
      "Epoch 53/150\n",
      "\u001b[1m3/3\u001b[0m \u001b[32m━━━━━━━━━━━━━━━━━━━━\u001b[0m\u001b[37m\u001b[0m \u001b[1m0s\u001b[0m 68ms/step - accuracy: 0.9393 - loss: 0.2797 - val_accuracy: 0.6800 - val_loss: 3.1356\n",
      "Epoch 54/150\n",
      "\u001b[1m3/3\u001b[0m \u001b[32m━━━━━━━━━━━━━━━━━━━━\u001b[0m\u001b[37m\u001b[0m \u001b[1m0s\u001b[0m 67ms/step - accuracy: 0.9460 - loss: 0.2859 - val_accuracy: 0.6800 - val_loss: 3.1215\n",
      "Epoch 55/150\n",
      "\u001b[1m3/3\u001b[0m \u001b[32m━━━━━━━━━━━━━━━━━━━━\u001b[0m\u001b[37m\u001b[0m \u001b[1m0s\u001b[0m 89ms/step - accuracy: 0.9577 - loss: 0.2353 - val_accuracy: 0.6800 - val_loss: 3.1031\n",
      "Epoch 56/150\n",
      "\u001b[1m3/3\u001b[0m \u001b[32m━━━━━━━━━━━━━━━━━━━━\u001b[0m\u001b[37m\u001b[0m \u001b[1m0s\u001b[0m 66ms/step - accuracy: 0.9026 - loss: 0.3037 - val_accuracy: 0.7200 - val_loss: 3.0821\n",
      "Epoch 57/150\n",
      "\u001b[1m3/3\u001b[0m \u001b[32m━━━━━━━━━━━━━━━━━━━━\u001b[0m\u001b[37m\u001b[0m \u001b[1m0s\u001b[0m 74ms/step - accuracy: 0.9265 - loss: 0.3552 - val_accuracy: 0.7200 - val_loss: 3.0780\n",
      "Epoch 58/150\n",
      "\u001b[1m3/3\u001b[0m \u001b[32m━━━━━━━━━━━━━━━━━━━━\u001b[0m\u001b[37m\u001b[0m \u001b[1m0s\u001b[0m 86ms/step - accuracy: 0.9460 - loss: 0.2211 - val_accuracy: 0.7200 - val_loss: 3.0811\n",
      "Epoch 59/150\n",
      "\u001b[1m3/3\u001b[0m \u001b[32m━━━━━━━━━━━━━━━━━━━━\u001b[0m\u001b[37m\u001b[0m \u001b[1m0s\u001b[0m 61ms/step - accuracy: 0.9288 - loss: 0.2341 - val_accuracy: 0.7200 - val_loss: 3.0910\n",
      "Epoch 60/150\n",
      "\u001b[1m3/3\u001b[0m \u001b[32m━━━━━━━━━━━━━━━━━━━━\u001b[0m\u001b[37m\u001b[0m \u001b[1m0s\u001b[0m 73ms/step - accuracy: 0.9683 - loss: 0.1999 - val_accuracy: 0.7200 - val_loss: 3.1169\n",
      "Epoch 61/150\n",
      "\u001b[1m3/3\u001b[0m \u001b[32m━━━━━━━━━━━━━━━━━━━━\u001b[0m\u001b[37m\u001b[0m \u001b[1m0s\u001b[0m 75ms/step - accuracy: 0.8959 - loss: 0.3324 - val_accuracy: 0.7200 - val_loss: 3.1454\n",
      "Epoch 62/150\n",
      "\u001b[1m3/3\u001b[0m \u001b[32m━━━━━━━━━━━━━━━━━━━━\u001b[0m\u001b[37m\u001b[0m \u001b[1m0s\u001b[0m 96ms/step - accuracy: 0.9527 - loss: 0.2189 - val_accuracy: 0.7200 - val_loss: 3.1744\n",
      "Epoch 63/150\n",
      "\u001b[1m3/3\u001b[0m \u001b[32m━━━━━━━━━━━━━━━━━━━━\u001b[0m\u001b[37m\u001b[0m \u001b[1m0s\u001b[0m 79ms/step - accuracy: 0.9527 - loss: 0.2839 - val_accuracy: 0.7200 - val_loss: 3.2037\n",
      "Epoch 64/150\n",
      "\u001b[1m3/3\u001b[0m \u001b[32m━━━━━━━━━━━━━━━━━━━━\u001b[0m\u001b[37m\u001b[0m \u001b[1m0s\u001b[0m 62ms/step - accuracy: 0.9527 - loss: 0.2000 - val_accuracy: 0.7200 - val_loss: 3.2448\n",
      "Epoch 65/150\n",
      "\u001b[1m3/3\u001b[0m \u001b[32m━━━━━━━━━━━━━━━━━━━━\u001b[0m\u001b[37m\u001b[0m \u001b[1m0s\u001b[0m 97ms/step - accuracy: 0.9616 - loss: 0.2147 - val_accuracy: 0.7200 - val_loss: 3.2685\n",
      "Epoch 66/150\n",
      "\u001b[1m3/3\u001b[0m \u001b[32m━━━━━━━━━━━━━━━━━━━━\u001b[0m\u001b[37m\u001b[0m \u001b[1m0s\u001b[0m 81ms/step - accuracy: 0.9026 - loss: 0.2852 - val_accuracy: 0.7200 - val_loss: 3.2668\n",
      "Epoch 67/150\n",
      "\u001b[1m3/3\u001b[0m \u001b[32m━━━━━━━━━━━━━━━━━━━━\u001b[0m\u001b[37m\u001b[0m \u001b[1m0s\u001b[0m 72ms/step - accuracy: 0.9816 - loss: 0.1272 - val_accuracy: 0.7200 - val_loss: 3.2646\n",
      "Epoch 68/150\n",
      "\u001b[1m3/3\u001b[0m \u001b[32m━━━━━━━━━━━━━━━━━━━━\u001b[0m\u001b[37m\u001b[0m \u001b[1m0s\u001b[0m 81ms/step - accuracy: 0.9894 - loss: 0.1436 - val_accuracy: 0.7200 - val_loss: 3.2688\n",
      "Epoch 69/150\n",
      "\u001b[1m3/3\u001b[0m \u001b[32m━━━━━━━━━━━━━━━━━━━━\u001b[0m\u001b[37m\u001b[0m \u001b[1m0s\u001b[0m 65ms/step - accuracy: 0.9354 - loss: 0.2586 - val_accuracy: 0.7200 - val_loss: 3.2802\n",
      "Epoch 70/150\n",
      "\u001b[1m3/3\u001b[0m \u001b[32m━━━━━━━━━━━━━━━━━━━━\u001b[0m\u001b[37m\u001b[0m \u001b[1m0s\u001b[0m 76ms/step - accuracy: 0.9816 - loss: 0.2034 - val_accuracy: 0.6800 - val_loss: 3.3031\n",
      "Epoch 71/150\n",
      "\u001b[1m3/3\u001b[0m \u001b[32m━━━━━━━━━━━━━━━━━━━━\u001b[0m\u001b[37m\u001b[0m \u001b[1m1s\u001b[0m 168ms/step - accuracy: 0.9605 - loss: 0.1781 - val_accuracy: 0.6800 - val_loss: 3.3398\n",
      "Epoch 72/150\n",
      "\u001b[1m3/3\u001b[0m \u001b[32m━━━━━━━━━━━━━━━━━━━━\u001b[0m\u001b[37m\u001b[0m \u001b[1m0s\u001b[0m 74ms/step - accuracy: 0.9789 - loss: 0.1513 - val_accuracy: 0.6800 - val_loss: 3.3624\n",
      "Epoch 73/150\n",
      "\u001b[1m3/3\u001b[0m \u001b[32m━━━━━━━━━━━━━━━━━━━━\u001b[0m\u001b[37m\u001b[0m \u001b[1m0s\u001b[0m 65ms/step - accuracy: 0.9749 - loss: 0.1556 - val_accuracy: 0.6800 - val_loss: 3.3870\n",
      "Epoch 74/150\n",
      "\u001b[1m3/3\u001b[0m \u001b[32m━━━━━━━━━━━━━━━━━━━━\u001b[0m\u001b[37m\u001b[0m \u001b[1m0s\u001b[0m 69ms/step - accuracy: 0.9448 - loss: 0.1972 - val_accuracy: 0.6800 - val_loss: 3.4065\n",
      "Epoch 75/150\n",
      "\u001b[1m3/3\u001b[0m \u001b[32m━━━━━━━━━━━━━━━━━━━━\u001b[0m\u001b[37m\u001b[0m \u001b[1m0s\u001b[0m 83ms/step - accuracy: 1.0000 - loss: 0.1275 - val_accuracy: 0.6800 - val_loss: 3.4256\n",
      "Epoch 76/150\n",
      "\u001b[1m3/3\u001b[0m \u001b[32m━━━━━━━━━━━━━━━━━━━━\u001b[0m\u001b[37m\u001b[0m \u001b[1m0s\u001b[0m 86ms/step - accuracy: 0.9894 - loss: 0.1138 - val_accuracy: 0.6800 - val_loss: 3.4443\n",
      "Epoch 77/150\n",
      "\u001b[1m3/3\u001b[0m \u001b[32m━━━━━━━━━━━━━━━━━━━━\u001b[0m\u001b[37m\u001b[0m \u001b[1m0s\u001b[0m 76ms/step - accuracy: 0.9644 - loss: 0.1200 - val_accuracy: 0.6800 - val_loss: 3.4620\n",
      "Epoch 78/150\n",
      "\u001b[1m3/3\u001b[0m \u001b[32m━━━━━━━━━━━━━━━━━━━━\u001b[0m\u001b[37m\u001b[0m \u001b[1m0s\u001b[0m 75ms/step - accuracy: 0.9616 - loss: 0.1655 - val_accuracy: 0.6800 - val_loss: 3.4809\n",
      "Epoch 79/150\n",
      "\u001b[1m3/3\u001b[0m \u001b[32m━━━━━━━━━━━━━━━━━━━━\u001b[0m\u001b[37m\u001b[0m \u001b[1m0s\u001b[0m 71ms/step - accuracy: 0.9632 - loss: 0.1360 - val_accuracy: 0.6800 - val_loss: 3.5030\n",
      "Epoch 80/150\n",
      "\u001b[1m3/3\u001b[0m \u001b[32m━━━━━━━━━━━━━━━━━━━━\u001b[0m\u001b[37m\u001b[0m \u001b[1m0s\u001b[0m 95ms/step - accuracy: 0.9471 - loss: 0.2034 - val_accuracy: 0.6800 - val_loss: 3.5302\n",
      "Epoch 81/150\n",
      "\u001b[1m3/3\u001b[0m \u001b[32m━━━━━━━━━━━━━━━━━━━━\u001b[0m\u001b[37m\u001b[0m \u001b[1m0s\u001b[0m 67ms/step - accuracy: 0.9789 - loss: 0.1309 - val_accuracy: 0.6800 - val_loss: 3.5473\n",
      "Epoch 82/150\n",
      "\u001b[1m3/3\u001b[0m \u001b[32m━━━━━━━━━━━━━━━━━━━━\u001b[0m\u001b[37m\u001b[0m \u001b[1m0s\u001b[0m 68ms/step - accuracy: 0.9828 - loss: 0.1098 - val_accuracy: 0.7200 - val_loss: 3.5629\n",
      "Epoch 83/150\n",
      "\u001b[1m3/3\u001b[0m \u001b[32m━━━━━━━━━━━━━━━━━━━━\u001b[0m\u001b[37m\u001b[0m \u001b[1m0s\u001b[0m 83ms/step - accuracy: 0.9710 - loss: 0.1279 - val_accuracy: 0.7200 - val_loss: 3.5754\n",
      "Epoch 84/150\n",
      "\u001b[1m3/3\u001b[0m \u001b[32m━━━━━━━━━━━━━━━━━━━━\u001b[0m\u001b[37m\u001b[0m \u001b[1m0s\u001b[0m 77ms/step - accuracy: 0.9894 - loss: 0.1430 - val_accuracy: 0.7200 - val_loss: 3.5754\n",
      "Epoch 85/150\n",
      "\u001b[1m3/3\u001b[0m \u001b[32m━━━━━━━━━━━━━━━━━━━━\u001b[0m\u001b[37m\u001b[0m \u001b[1m0s\u001b[0m 70ms/step - accuracy: 0.9460 - loss: 0.1497 - val_accuracy: 0.7200 - val_loss: 3.5670\n",
      "Epoch 86/150\n",
      "\u001b[1m3/3\u001b[0m \u001b[32m━━━━━━━━━━━━━━━━━━━━\u001b[0m\u001b[37m\u001b[0m \u001b[1m0s\u001b[0m 84ms/step - accuracy: 0.9538 - loss: 0.1614 - val_accuracy: 0.7200 - val_loss: 3.5588\n",
      "Epoch 87/150\n",
      "\u001b[1m3/3\u001b[0m \u001b[32m━━━━━━━━━━━━━━━━━━━━\u001b[0m\u001b[37m\u001b[0m \u001b[1m0s\u001b[0m 79ms/step - accuracy: 1.0000 - loss: 0.0467 - val_accuracy: 0.7200 - val_loss: 3.5520\n",
      "Epoch 88/150\n",
      "\u001b[1m3/3\u001b[0m \u001b[32m━━━━━━━━━━━━━━━━━━━━\u001b[0m\u001b[37m\u001b[0m \u001b[1m0s\u001b[0m 66ms/step - accuracy: 0.9722 - loss: 0.1150 - val_accuracy: 0.7200 - val_loss: 3.5542\n",
      "Epoch 89/150\n",
      "\u001b[1m3/3\u001b[0m \u001b[32m━━━━━━━━━━━━━━━━━━━━\u001b[0m\u001b[37m\u001b[0m \u001b[1m0s\u001b[0m 85ms/step - accuracy: 0.9828 - loss: 0.1158 - val_accuracy: 0.7200 - val_loss: 3.5640\n",
      "Epoch 90/150\n",
      "\u001b[1m3/3\u001b[0m \u001b[32m━━━━━━━━━━━━━━━━━━━━\u001b[0m\u001b[37m\u001b[0m \u001b[1m0s\u001b[0m 72ms/step - accuracy: 0.9315 - loss: 0.1900 - val_accuracy: 0.7200 - val_loss: 3.5700\n",
      "Epoch 91/150\n",
      "\u001b[1m3/3\u001b[0m \u001b[32m━━━━━━━━━━━━━━━━━━━━\u001b[0m\u001b[37m\u001b[0m \u001b[1m0s\u001b[0m 64ms/step - accuracy: 0.9710 - loss: 0.1740 - val_accuracy: 0.7200 - val_loss: 3.5917\n",
      "Epoch 92/150\n",
      "\u001b[1m3/3\u001b[0m \u001b[32m━━━━━━━━━━━━━━━━━━━━\u001b[0m\u001b[37m\u001b[0m \u001b[1m0s\u001b[0m 89ms/step - accuracy: 0.9527 - loss: 0.1161 - val_accuracy: 0.7200 - val_loss: 3.6242\n",
      "Epoch 93/150\n",
      "\u001b[1m3/3\u001b[0m \u001b[32m━━━━━━━━━━━━━━━━━━━━\u001b[0m\u001b[37m\u001b[0m \u001b[1m0s\u001b[0m 93ms/step - accuracy: 1.0000 - loss: 0.0958 - val_accuracy: 0.7200 - val_loss: 3.6575\n",
      "Epoch 94/150\n",
      "\u001b[1m3/3\u001b[0m \u001b[32m━━━━━━━━━━━━━━━━━━━━\u001b[0m\u001b[37m\u001b[0m \u001b[1m0s\u001b[0m 78ms/step - accuracy: 0.9933 - loss: 0.0706 - val_accuracy: 0.7200 - val_loss: 3.6963\n",
      "Epoch 95/150\n",
      "\u001b[1m3/3\u001b[0m \u001b[32m━━━━━━━━━━━━━━━━━━━━\u001b[0m\u001b[37m\u001b[0m \u001b[1m0s\u001b[0m 69ms/step - accuracy: 0.9448 - loss: 0.1271 - val_accuracy: 0.7200 - val_loss: 3.7402\n",
      "Epoch 96/150\n",
      "\u001b[1m3/3\u001b[0m \u001b[32m━━━━━━━━━━━━━━━━━━━━\u001b[0m\u001b[37m\u001b[0m \u001b[1m0s\u001b[0m 85ms/step - accuracy: 1.0000 - loss: 0.0959 - val_accuracy: 0.6800 - val_loss: 3.7761\n",
      "Epoch 97/150\n",
      "\u001b[1m3/3\u001b[0m \u001b[32m━━━━━━━━━━━━━━━━━━━━\u001b[0m\u001b[37m\u001b[0m \u001b[1m0s\u001b[0m 77ms/step - accuracy: 0.9894 - loss: 0.0938 - val_accuracy: 0.7200 - val_loss: 3.8024\n",
      "Epoch 98/150\n",
      "\u001b[1m3/3\u001b[0m \u001b[32m━━━━━━━━━━━━━━━━━━━━\u001b[0m\u001b[37m\u001b[0m \u001b[1m0s\u001b[0m 72ms/step - accuracy: 0.9894 - loss: 0.0949 - val_accuracy: 0.7200 - val_loss: 3.8129\n",
      "Epoch 99/150\n",
      "\u001b[1m3/3\u001b[0m \u001b[32m━━━━━━━━━━━━━━━━━━━━\u001b[0m\u001b[37m\u001b[0m \u001b[1m0s\u001b[0m 68ms/step - accuracy: 0.9816 - loss: 0.1214 - val_accuracy: 0.7200 - val_loss: 3.7995\n",
      "Epoch 100/150\n",
      "\u001b[1m3/3\u001b[0m \u001b[32m━━━━━━━━━━━━━━━━━━━━\u001b[0m\u001b[37m\u001b[0m \u001b[1m1s\u001b[0m 254ms/step - accuracy: 0.9632 - loss: 0.1381 - val_accuracy: 0.7200 - val_loss: 3.7757\n",
      "Epoch 101/150\n",
      "\u001b[1m3/3\u001b[0m \u001b[32m━━━━━━━━━━━━━━━━━━━━\u001b[0m\u001b[37m\u001b[0m \u001b[1m0s\u001b[0m 74ms/step - accuracy: 0.9789 - loss: 0.0915 - val_accuracy: 0.7200 - val_loss: 3.7584\n",
      "Epoch 102/150\n",
      "\u001b[1m3/3\u001b[0m \u001b[32m━━━━━━━━━━━━━━━━━━━━\u001b[0m\u001b[37m\u001b[0m \u001b[1m0s\u001b[0m 105ms/step - accuracy: 0.9683 - loss: 0.1013 - val_accuracy: 0.7200 - val_loss: 3.7343\n",
      "Epoch 103/150\n",
      "\u001b[1m3/3\u001b[0m \u001b[32m━━━━━━━━━━━━━━━━━━━━\u001b[0m\u001b[37m\u001b[0m \u001b[1m0s\u001b[0m 79ms/step - accuracy: 0.9933 - loss: 0.0472 - val_accuracy: 0.7200 - val_loss: 3.7188\n",
      "Epoch 104/150\n",
      "\u001b[1m3/3\u001b[0m \u001b[32m━━━━━━━━━━━━━━━━━━━━\u001b[0m\u001b[37m\u001b[0m \u001b[1m0s\u001b[0m 85ms/step - accuracy: 0.9710 - loss: 0.0910 - val_accuracy: 0.7200 - val_loss: 3.7242\n",
      "Epoch 105/150\n",
      "\u001b[1m3/3\u001b[0m \u001b[32m━━━━━━━━━━━━━━━━━━━━\u001b[0m\u001b[37m\u001b[0m \u001b[1m0s\u001b[0m 70ms/step - accuracy: 1.0000 - loss: 0.0637 - val_accuracy: 0.7200 - val_loss: 3.7318\n",
      "Epoch 106/150\n",
      "\u001b[1m3/3\u001b[0m \u001b[32m━━━━━━━━━━━━━━━━━━━━\u001b[0m\u001b[37m\u001b[0m \u001b[1m0s\u001b[0m 81ms/step - accuracy: 0.9816 - loss: 0.0835 - val_accuracy: 0.6800 - val_loss: 3.7447\n",
      "Epoch 107/150\n",
      "\u001b[1m3/3\u001b[0m \u001b[32m━━━━━━━━━━━━━━━━━━━━\u001b[0m\u001b[37m\u001b[0m \u001b[1m0s\u001b[0m 94ms/step - accuracy: 1.0000 - loss: 0.0558 - val_accuracy: 0.7200 - val_loss: 3.7660\n",
      "Epoch 108/150\n",
      "\u001b[1m3/3\u001b[0m \u001b[32m━━━━━━━━━━━━━━━━━━━━\u001b[0m\u001b[37m\u001b[0m \u001b[1m0s\u001b[0m 85ms/step - accuracy: 0.9644 - loss: 0.1072 - val_accuracy: 0.7200 - val_loss: 3.7865\n",
      "Epoch 109/150\n",
      "\u001b[1m3/3\u001b[0m \u001b[32m━━━━━━━━━━━━━━━━━━━━\u001b[0m\u001b[37m\u001b[0m \u001b[1m0s\u001b[0m 71ms/step - accuracy: 0.9749 - loss: 0.0941 - val_accuracy: 0.7200 - val_loss: 3.8104\n",
      "Epoch 110/150\n",
      "\u001b[1m3/3\u001b[0m \u001b[32m━━━━━━━━━━━━━━━━━━━━\u001b[0m\u001b[37m\u001b[0m \u001b[1m0s\u001b[0m 93ms/step - accuracy: 0.9710 - loss: 0.0561 - val_accuracy: 0.7200 - val_loss: 3.8353\n",
      "Epoch 111/150\n",
      "\u001b[1m3/3\u001b[0m \u001b[32m━━━━━━━━━━━━━━━━━━━━\u001b[0m\u001b[37m\u001b[0m \u001b[1m0s\u001b[0m 88ms/step - accuracy: 0.9710 - loss: 0.1039 - val_accuracy: 0.7200 - val_loss: 3.8545\n",
      "Epoch 112/150\n",
      "\u001b[1m3/3\u001b[0m \u001b[32m━━━━━━━━━━━━━━━━━━━━\u001b[0m\u001b[37m\u001b[0m \u001b[1m0s\u001b[0m 64ms/step - accuracy: 0.9816 - loss: 0.0783 - val_accuracy: 0.7200 - val_loss: 3.8559\n",
      "Epoch 113/150\n",
      "\u001b[1m3/3\u001b[0m \u001b[32m━━━━━━━━━━━━━━━━━━━━\u001b[0m\u001b[37m\u001b[0m \u001b[1m0s\u001b[0m 76ms/step - accuracy: 0.9933 - loss: 0.0392 - val_accuracy: 0.7200 - val_loss: 3.8535\n",
      "Epoch 114/150\n",
      "\u001b[1m3/3\u001b[0m \u001b[32m━━━━━━━━━━━━━━━━━━━━\u001b[0m\u001b[37m\u001b[0m \u001b[1m0s\u001b[0m 72ms/step - accuracy: 0.9749 - loss: 0.0970 - val_accuracy: 0.7200 - val_loss: 3.8266\n",
      "Epoch 115/150\n",
      "\u001b[1m3/3\u001b[0m \u001b[32m━━━━━━━━━━━━━━━━━━━━\u001b[0m\u001b[37m\u001b[0m \u001b[1m0s\u001b[0m 66ms/step - accuracy: 0.9894 - loss: 0.0782 - val_accuracy: 0.7200 - val_loss: 3.8044\n",
      "Epoch 116/150\n",
      "\u001b[1m3/3\u001b[0m \u001b[32m━━━━━━━━━━━━━━━━━━━━\u001b[0m\u001b[37m\u001b[0m \u001b[1m0s\u001b[0m 79ms/step - accuracy: 0.9710 - loss: 0.1245 - val_accuracy: 0.7200 - val_loss: 3.7929\n",
      "Epoch 117/150\n",
      "\u001b[1m3/3\u001b[0m \u001b[32m━━━━━━━━━━━━━━━━━━━━\u001b[0m\u001b[37m\u001b[0m \u001b[1m0s\u001b[0m 78ms/step - accuracy: 0.9816 - loss: 0.0973 - val_accuracy: 0.7200 - val_loss: 3.7948\n",
      "Epoch 118/150\n",
      "\u001b[1m3/3\u001b[0m \u001b[32m━━━━━━━━━━━━━━━━━━━━\u001b[0m\u001b[37m\u001b[0m \u001b[1m0s\u001b[0m 71ms/step - accuracy: 1.0000 - loss: 0.0550 - val_accuracy: 0.7200 - val_loss: 3.8013\n",
      "Epoch 119/150\n",
      "\u001b[1m3/3\u001b[0m \u001b[32m━━━━━━━━━━━━━━━━━━━━\u001b[0m\u001b[37m\u001b[0m \u001b[1m0s\u001b[0m 74ms/step - accuracy: 1.0000 - loss: 0.0638 - val_accuracy: 0.7200 - val_loss: 3.8064\n",
      "Epoch 120/150\n",
      "\u001b[1m3/3\u001b[0m \u001b[32m━━━━━━━━━━━━━━━━━━━━\u001b[0m\u001b[37m\u001b[0m \u001b[1m0s\u001b[0m 89ms/step - accuracy: 0.9710 - loss: 0.0792 - val_accuracy: 0.7200 - val_loss: 3.8070\n",
      "Epoch 121/150\n",
      "\u001b[1m3/3\u001b[0m \u001b[32m━━━━━━━━━━━━━━━━━━━━\u001b[0m\u001b[37m\u001b[0m \u001b[1m0s\u001b[0m 65ms/step - accuracy: 0.9749 - loss: 0.0890 - val_accuracy: 0.7200 - val_loss: 3.8169\n",
      "Epoch 122/150\n",
      "\u001b[1m3/3\u001b[0m \u001b[32m━━━━━━━━━━━━━━━━━━━━\u001b[0m\u001b[37m\u001b[0m \u001b[1m1s\u001b[0m 230ms/step - accuracy: 0.9816 - loss: 0.0728 - val_accuracy: 0.7200 - val_loss: 3.8288\n",
      "Epoch 123/150\n",
      "\u001b[1m3/3\u001b[0m \u001b[32m━━━━━━━━━━━━━━━━━━━━\u001b[0m\u001b[37m\u001b[0m \u001b[1m0s\u001b[0m 128ms/step - accuracy: 0.9710 - loss: 0.0965 - val_accuracy: 0.7200 - val_loss: 3.8450\n",
      "Epoch 124/150\n",
      "\u001b[1m3/3\u001b[0m \u001b[32m━━━━━━━━━━━━━━━━━━━━\u001b[0m\u001b[37m\u001b[0m \u001b[1m0s\u001b[0m 72ms/step - accuracy: 0.9421 - loss: 0.1555 - val_accuracy: 0.7200 - val_loss: 3.8700\n",
      "Epoch 125/150\n",
      "\u001b[1m3/3\u001b[0m \u001b[32m━━━━━━━━━━━━━━━━━━━━\u001b[0m\u001b[37m\u001b[0m \u001b[1m0s\u001b[0m 81ms/step - accuracy: 0.9710 - loss: 0.1011 - val_accuracy: 0.7200 - val_loss: 3.9048\n",
      "Epoch 126/150\n",
      "\u001b[1m3/3\u001b[0m \u001b[32m━━━━━━━━━━━━━━━━━━━━\u001b[0m\u001b[37m\u001b[0m \u001b[1m0s\u001b[0m 57ms/step - accuracy: 0.9894 - loss: 0.0527 - val_accuracy: 0.7200 - val_loss: 3.9290\n",
      "Epoch 127/150\n",
      "\u001b[1m3/3\u001b[0m \u001b[32m━━━━━━━━━━━━━━━━━━━━\u001b[0m\u001b[37m\u001b[0m \u001b[1m0s\u001b[0m 74ms/step - accuracy: 0.9816 - loss: 0.0694 - val_accuracy: 0.7200 - val_loss: 3.9478\n",
      "Epoch 128/150\n",
      "\u001b[1m3/3\u001b[0m \u001b[32m━━━━━━━━━━━━━━━━━━━━\u001b[0m\u001b[37m\u001b[0m \u001b[1m0s\u001b[0m 74ms/step - accuracy: 1.0000 - loss: 0.0522 - val_accuracy: 0.7200 - val_loss: 3.9685\n",
      "Epoch 129/150\n",
      "\u001b[1m3/3\u001b[0m \u001b[32m━━━━━━━━━━━━━━━━━━━━\u001b[0m\u001b[37m\u001b[0m \u001b[1m0s\u001b[0m 79ms/step - accuracy: 1.0000 - loss: 0.0554 - val_accuracy: 0.7200 - val_loss: 3.9842\n",
      "Epoch 130/150\n",
      "\u001b[1m3/3\u001b[0m \u001b[32m━━━━━━━━━━━━━━━━━━━━\u001b[0m\u001b[37m\u001b[0m \u001b[1m0s\u001b[0m 116ms/step - accuracy: 0.9816 - loss: 0.0764 - val_accuracy: 0.7200 - val_loss: 4.0027\n",
      "Epoch 131/150\n",
      "\u001b[1m3/3\u001b[0m \u001b[32m━━━━━━━━━━━━━━━━━━━━\u001b[0m\u001b[37m\u001b[0m \u001b[1m0s\u001b[0m 100ms/step - accuracy: 1.0000 - loss: 0.0528 - val_accuracy: 0.7200 - val_loss: 4.0249\n",
      "Epoch 132/150\n",
      "\u001b[1m3/3\u001b[0m \u001b[32m━━━━━━━━━━━━━━━━━━━━\u001b[0m\u001b[37m\u001b[0m \u001b[1m0s\u001b[0m 110ms/step - accuracy: 0.9632 - loss: 0.1293 - val_accuracy: 0.7200 - val_loss: 4.0476\n",
      "Epoch 133/150\n",
      "\u001b[1m3/3\u001b[0m \u001b[32m━━━━━━━━━━━━━━━━━━━━\u001b[0m\u001b[37m\u001b[0m \u001b[1m0s\u001b[0m 76ms/step - accuracy: 0.9816 - loss: 0.0723 - val_accuracy: 0.7200 - val_loss: 4.0529\n",
      "Epoch 134/150\n",
      "\u001b[1m3/3\u001b[0m \u001b[32m━━━━━━━━━━━━━━━━━━━━\u001b[0m\u001b[37m\u001b[0m \u001b[1m0s\u001b[0m 81ms/step - accuracy: 1.0000 - loss: 0.0610 - val_accuracy: 0.7200 - val_loss: 4.0567\n",
      "Epoch 135/150\n",
      "\u001b[1m3/3\u001b[0m \u001b[32m━━━━━━━━━━━━━━━━━━━━\u001b[0m\u001b[37m\u001b[0m \u001b[1m0s\u001b[0m 77ms/step - accuracy: 0.9710 - loss: 0.1038 - val_accuracy: 0.7200 - val_loss: 4.0762\n",
      "Epoch 136/150\n",
      "\u001b[1m3/3\u001b[0m \u001b[32m━━━━━━━━━━━━━━━━━━━━\u001b[0m\u001b[37m\u001b[0m \u001b[1m0s\u001b[0m 105ms/step - accuracy: 0.9710 - loss: 0.0598 - val_accuracy: 0.7200 - val_loss: 4.0949\n",
      "Epoch 137/150\n",
      "\u001b[1m3/3\u001b[0m \u001b[32m━━━━━━━━━━━━━━━━━━━━\u001b[0m\u001b[37m\u001b[0m \u001b[1m0s\u001b[0m 71ms/step - accuracy: 0.9789 - loss: 0.0753 - val_accuracy: 0.6800 - val_loss: 4.1120\n",
      "Epoch 138/150\n",
      "\u001b[1m3/3\u001b[0m \u001b[32m━━━━━━━━━━━━━━━━━━━━\u001b[0m\u001b[37m\u001b[0m \u001b[1m0s\u001b[0m 78ms/step - accuracy: 0.9933 - loss: 0.0524 - val_accuracy: 0.6400 - val_loss: 4.1253\n",
      "Epoch 139/150\n",
      "\u001b[1m3/3\u001b[0m \u001b[32m━━━━━━━━━━━━━━━━━━━━\u001b[0m\u001b[37m\u001b[0m \u001b[1m0s\u001b[0m 80ms/step - accuracy: 0.9894 - loss: 0.0302 - val_accuracy: 0.6400 - val_loss: 4.1382\n",
      "Epoch 140/150\n",
      "\u001b[1m3/3\u001b[0m \u001b[32m━━━━━━━━━━━━━━━━━━━━\u001b[0m\u001b[37m\u001b[0m \u001b[1m0s\u001b[0m 78ms/step - accuracy: 1.0000 - loss: 0.0627 - val_accuracy: 0.6400 - val_loss: 4.1483\n",
      "Epoch 141/150\n",
      "\u001b[1m3/3\u001b[0m \u001b[32m━━━━━━━━━━━━━━━━━━━━\u001b[0m\u001b[37m\u001b[0m \u001b[1m0s\u001b[0m 82ms/step - accuracy: 0.9894 - loss: 0.0468 - val_accuracy: 0.6400 - val_loss: 4.1613\n",
      "Epoch 142/150\n",
      "\u001b[1m3/3\u001b[0m \u001b[32m━━━━━━━━━━━━━━━━━━━━\u001b[0m\u001b[37m\u001b[0m \u001b[1m0s\u001b[0m 72ms/step - accuracy: 1.0000 - loss: 0.0371 - val_accuracy: 0.6400 - val_loss: 4.1731\n",
      "Epoch 143/150\n",
      "\u001b[1m3/3\u001b[0m \u001b[32m━━━━━━━━━━━━━━━━━━━━\u001b[0m\u001b[37m\u001b[0m \u001b[1m0s\u001b[0m 80ms/step - accuracy: 0.9605 - loss: 0.0811 - val_accuracy: 0.6400 - val_loss: 4.1791\n",
      "Epoch 144/150\n",
      "\u001b[1m3/3\u001b[0m \u001b[32m━━━━━━━━━━━━━━━━━━━━\u001b[0m\u001b[37m\u001b[0m \u001b[1m0s\u001b[0m 80ms/step - accuracy: 1.0000 - loss: 0.0414 - val_accuracy: 0.6400 - val_loss: 4.1764\n",
      "Epoch 145/150\n",
      "\u001b[1m3/3\u001b[0m \u001b[32m━━━━━━━━━━━━━━━━━━━━\u001b[0m\u001b[37m\u001b[0m \u001b[1m0s\u001b[0m 80ms/step - accuracy: 1.0000 - loss: 0.0417 - val_accuracy: 0.6400 - val_loss: 4.1779\n",
      "Epoch 146/150\n",
      "\u001b[1m3/3\u001b[0m \u001b[32m━━━━━━━━━━━━━━━━━━━━\u001b[0m\u001b[37m\u001b[0m \u001b[1m0s\u001b[0m 68ms/step - accuracy: 0.9894 - loss: 0.0585 - val_accuracy: 0.6400 - val_loss: 4.1862\n",
      "Epoch 147/150\n",
      "\u001b[1m3/3\u001b[0m \u001b[32m━━━━━━━━━━━━━━━━━━━━\u001b[0m\u001b[37m\u001b[0m \u001b[1m0s\u001b[0m 96ms/step - accuracy: 0.9894 - loss: 0.0609 - val_accuracy: 0.6400 - val_loss: 4.1938\n",
      "Epoch 148/150\n",
      "\u001b[1m3/3\u001b[0m \u001b[32m━━━━━━━━━━━━━━━━━━━━\u001b[0m\u001b[37m\u001b[0m \u001b[1m0s\u001b[0m 80ms/step - accuracy: 1.0000 - loss: 0.0435 - val_accuracy: 0.6400 - val_loss: 4.2090\n",
      "Epoch 149/150\n",
      "\u001b[1m3/3\u001b[0m \u001b[32m━━━━━━━━━━━━━━━━━━━━\u001b[0m\u001b[37m\u001b[0m \u001b[1m0s\u001b[0m 83ms/step - accuracy: 0.9710 - loss: 0.0770 - val_accuracy: 0.6400 - val_loss: 4.2155\n",
      "Epoch 150/150\n",
      "\u001b[1m3/3\u001b[0m \u001b[32m━━━━━━━━━━━━━━━━━━━━\u001b[0m\u001b[37m\u001b[0m \u001b[1m0s\u001b[0m 75ms/step - accuracy: 0.9894 - loss: 0.0306 - val_accuracy: 0.6400 - val_loss: 4.2207\n"
     ]
    }
   ],
   "source": [
    "r = model.fit(\n",
    "    x_train, y_train,\n",
    "    epochs=150,\n",
    "    validation_data=(x_test, y_test)\n",
    ")"
   ]
  },
  {
   "cell_type": "markdown",
   "id": "LmYT_OJPa3Kv",
   "metadata": {
    "id": "LmYT_OJPa3Kv"
   },
   "source": [
    "### Functional API"
   ]
  },
  {
   "cell_type": "code",
   "execution_count": 119,
   "id": "JP1DSi5Na6o3",
   "metadata": {
    "executionInfo": {
     "elapsed": 3,
     "status": "ok",
     "timestamp": 1744032643498,
     "user": {
      "displayName": "Javad Monsefi",
      "userId": "11903795943444044796"
     },
     "user_tz": -210
    },
    "id": "JP1DSi5Na6o3"
   },
   "outputs": [],
   "source": [
    "# from tensorflow.keras.layers import Input, Dense, Dropout\n",
    "# from tensorflow.keras.models import Model\n",
    "# from tensorflow.keras import regularizers"
   ]
  },
  {
   "cell_type": "code",
   "execution_count": 120,
   "id": "twd31Wmra6rT",
   "metadata": {
    "executionInfo": {
     "elapsed": 3,
     "status": "ok",
     "timestamp": 1744032643498,
     "user": {
      "displayName": "Javad Monsefi",
      "userId": "11903795943444044796"
     },
     "user_tz": -210
    },
    "id": "twd31Wmra6rT"
   },
   "outputs": [],
   "source": [
    "# i = Input(shape=(784,))\n",
    "# X = Dense(256, activation='relu')(i)\n",
    "# X = Dense(128, activation='relu')(X)\n",
    "# X = Dense(10, activation='softmax')(X)\n",
    "\n",
    "# model = Model(i, X)"
   ]
  },
  {
   "cell_type": "code",
   "execution_count": 121,
   "id": "7gwzO6Qfa66_",
   "metadata": {
    "executionInfo": {
     "elapsed": 3,
     "status": "ok",
     "timestamp": 1744032643498,
     "user": {
      "displayName": "Javad Monsefi",
      "userId": "11903795943444044796"
     },
     "user_tz": -210
    },
    "id": "7gwzO6Qfa66_"
   },
   "outputs": [],
   "source": [
    "# model.summary()"
   ]
  },
  {
   "cell_type": "markdown",
   "id": "2214f981-905f-4dbc-bc88-9dc95b674392",
   "metadata": {
    "id": "2214f981-905f-4dbc-bc88-9dc95b674392"
   },
   "source": [
    "## visualizing"
   ]
  },
  {
   "cell_type": "code",
   "execution_count": 126,
   "id": "2beadca7-6e05-4bea-a443-3f06dace06ab",
   "metadata": {
    "executionInfo": {
     "elapsed": 2,
     "status": "ok",
     "timestamp": 1744032644692,
     "user": {
      "displayName": "Javad Monsefi",
      "userId": "11903795943444044796"
     },
     "user_tz": -210
    },
    "id": "2beadca7-6e05-4bea-a443-3f06dace06ab"
   },
   "outputs": [],
   "source": [
    "import matplotlib.pyplot as plt"
   ]
  },
  {
   "cell_type": "code",
   "execution_count": 128,
   "id": "IKwBmULHaZ4Z",
   "metadata": {
    "colab": {
     "base_uri": "https://localhost:8080/",
     "height": 447
    },
    "executionInfo": {
     "elapsed": 426,
     "status": "ok",
     "timestamp": 1744032646535,
     "user": {
      "displayName": "Javad Monsefi",
      "userId": "11903795943444044796"
     },
     "user_tz": -210
    },
    "id": "IKwBmULHaZ4Z",
    "outputId": "ae9b61b9-fbfd-4480-ec2a-d0d03ff400bd"
   },
   "outputs": [
    {
     "data": {
      "text/plain": [
       "<matplotlib.legend.Legend at 0x1969e68de50>"
      ]
     },
     "execution_count": 128,
     "metadata": {},
     "output_type": "execute_result"
    },
    {
     "data": {
      "image/png": "[encoded data removed]",
      "text/plain": [
       "<Figure size 640x480 with 1 Axes>"
      ]
     },
     "metadata": {},
     "output_type": "display_data"
    }
   ],
   "source": [
    "plt.plot(r.history['loss'], label='loss')\n",
    "plt.plot(r.history['val_loss'], label='val_loss')\n",
    "plt.legend()"
   ]
  },
  {
   "cell_type": "code",
   "execution_count": 130,
   "id": "ZK0TWvy_aZ9W",
   "metadata": {
    "colab": {
     "base_uri": "https://localhost:8080/",
     "height": 447
    },
    "executionInfo": {
     "elapsed": 11,
     "status": "ok",
     "timestamp": 1744032647546,
     "user": {
      "displayName": "Javad Monsefi",
      "userId": "11903795943444044796"
     },
     "user_tz": -210
    },
    "id": "ZK0TWvy_aZ9W",
    "outputId": "67c74695-8d74-420e-8a3d-6d279800a98f"
   },
   "outputs": [
    {
     "data": {
      "text/plain": [
       "<matplotlib.legend.Legend at 0x1969fb89790>"
      ]
     },
     "execution_count": 130,
     "metadata": {},
     "output_type": "execute_result"
    },
    {
     "data": {
      "image/png": "[encoded data removed]",
      "text/plain": [
       "<Figure size 640x480 with 1 Axes>"
      ]
     },
     "metadata": {},
     "output_type": "display_data"
    }
   ],
   "source": [
    "plt.plot(r.history['accuracy'], label='accuracy')\n",
    "plt.plot(r.history['val_accuracy'], label='val_accuracy')\n",
    "plt.legend()"
   ]
  },
  {
   "cell_type": "markdown",
   "id": "c404cc12-cecf-4580-9e28-3d838bcbe667",
   "metadata": {
    "id": "c404cc12-cecf-4580-9e28-3d838bcbe667"
   },
   "source": [
    "## predict new data"
   ]
  },
  {
   "cell_type": "code",
   "execution_count": 133,
   "id": "f2fbb0ac-b70f-4295-9390-615c89996f78",
   "metadata": {
    "colab": {
     "base_uri": "https://localhost:8080/"
    },
    "executionInfo": {
     "elapsed": 331,
     "status": "ok",
     "timestamp": 1744032754801,
     "user": {
      "displayName": "Javad Monsefi",
      "userId": "11903795943444044796"
     },
     "user_tz": -210
    },
    "id": "f2fbb0ac-b70f-4295-9390-615c89996f78",
    "outputId": "3dc173d6-214a-472b-f9af-6715e20610e7"
   },
   "outputs": [
    {
     "name": "stdout",
     "output_type": "stream",
     "text": [
      "\u001b[1m1/1\u001b[0m \u001b[32m━━━━━━━━━━━━━━━━━━━━\u001b[0m\u001b[37m\u001b[0m \u001b[1m0s\u001b[0m 169ms/step\n",
      "[9.9984670e-01 6.4000244e-10 2.0233228e-06 1.1378688e-06 1.0544201e-06\n",
      " 5.7210342e-10 1.4479492e-04 2.7726236e-08 3.5468129e-06 6.5265874e-07]\n",
      "\u001b[1m1/1\u001b[0m \u001b[32m━━━━━━━━━━━━━━━━━━━━\u001b[0m\u001b[37m\u001b[0m \u001b[1m0s\u001b[0m 73ms/step\n",
      "0\n",
      "-------------------\n",
      "0\n"
     ]
    }
   ],
   "source": [
    "n = np.random.randint(len(x_test))\n",
    "\n",
    "print(model.predict(x_test)[n])\n",
    "print(np.argmax(model.predict(x_test)[n]))\n",
    "print('-------------------')\n",
    "print(y_test[n])"
   ]
  },
  {
   "cell_type": "markdown",
   "id": "7d5a5538-fd43-430e-84ac-d3b8cddfa4c4",
   "metadata": {
    "id": "7d5a5538-fd43-430e-84ac-d3b8cddfa4c4"
   },
   "source": [
    "## save the model"
   ]
  },
  {
   "cell_type": "code",
   "execution_count": 43,
   "id": "7ff384ba-7b32-47d8-9688-203eea58f276",
   "metadata": {
    "executionInfo": {
     "elapsed": 339,
     "status": "ok",
     "timestamp": 1744032758718,
     "user": {
      "displayName": "Javad Monsefi",
      "userId": "11903795943444044796"
     },
     "user_tz": -210
    },
    "id": "7ff384ba-7b32-47d8-9688-203eea58f276"
   },
   "outputs": [],
   "source": [
    "# model.save('MLP_sparsecategorical.keras')"
   ]
  },
  {
   "cell_type": "markdown",
   "id": "7c3b0e87-045d-4158-a6d6-857f0cc3923d",
   "metadata": {
    "id": "7c3b0e87-045d-4158-a6d6-857f0cc3923d"
   },
   "source": [
    "## load the model"
   ]
  },
  {
   "cell_type": "code",
   "execution_count": 45,
   "id": "b432388f-2f12-4daa-9183-c0328ddcb941",
   "metadata": {
    "executionInfo": {
     "elapsed": 3,
     "status": "ok",
     "timestamp": 1744032759072,
     "user": {
      "displayName": "Javad Monsefi",
      "userId": "11903795943444044796"
     },
     "user_tz": -210
    },
    "id": "b432388f-2f12-4daa-9183-c0328ddcb941"
   },
   "outputs": [],
   "source": [
    "# from tensorflow.keras.models import load_model\n",
    "# model = load_model('MLP_sparsecategorical.keras')"
   ]
  }
 ],
 "metadata": {
  "colab": {
   "provenance": []
  },
  "kernelspec": {
   "display_name": "Python [conda env:base] *",
   "language": "python",
   "name": "conda-base-py"
  },
  "language_info": {
   "codemirror_mode": {
    "name": "ipython",
    "version": 3
   },
   "file_extension": ".py",
   "mimetype": "text/x-python",
   "name": "python",
   "nbconvert_exporter": "python",
   "pygments_lexer": "ipython3",
   "version": "3.12.7"
  }
 },
 "nbformat": 4,
 "nbformat_minor": 5
}
